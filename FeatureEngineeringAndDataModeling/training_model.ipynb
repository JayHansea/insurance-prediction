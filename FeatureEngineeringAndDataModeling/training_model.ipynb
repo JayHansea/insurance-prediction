{
 "cells": [
  {
   "cell_type": "markdown",
   "source": [
    "# Training and Testing Model Predictions"
   ],
   "metadata": {}
  },
  {
   "cell_type": "code",
   "execution_count": 1,
   "source": [
    "#importing packages\r\n",
    "\r\n",
    "import sys, os\r\n",
    "import pickle\r\n",
    "import numpy as np\r\n",
    "import pandas as pd\r\n",
    "\r\n",
    "from sklearn.linear_model import SGDClassifier\r\n",
    "from sklearn.naive_bayes import GaussianNB\r\n",
    "from sklearn.neural_network import MLPClassifier\r\n",
    "from sklearn.tree import DecisionTreeClassifier\r\n",
    "from sklearn.ensemble import RandomForestClassifier\r\n",
    "from sklearn.ensemble import GradientBoostingClassifier\r\n",
    "from sklearn.ensemble import AdaBoostClassifier\r\n",
    "\r\n",
    "from sklearn.model_selection import cross_val_score\r\n",
    "\r\n",
    "sys.path.append(os.path.abspath(os.path.join('..', 'utils')))\r\n",
    "from utility import evaluate_cat_models"
   ],
   "outputs": [],
   "metadata": {}
  },
  {
   "cell_type": "code",
   "execution_count": 4,
   "source": [
    "# initialize models\r\n",
    "\r\n",
    "sgd = SGDClassifier()\r\n",
    "gnb = GaussianNB()\r\n",
    "mlp = MLPClassifier()\r\n",
    "tree = DecisionTreeClassifier()\r\n",
    "forest = RandomForestClassifier()\r\n",
    "gradient_boost = GradientBoostingClassifier()\r\n",
    "ada_boost = AdaBoostClassifier()"
   ],
   "outputs": [],
   "metadata": {}
  },
  {
   "cell_type": "markdown",
   "source": [
    "### Oversampling model"
   ],
   "metadata": {}
  },
  {
   "cell_type": "code",
   "execution_count": 5,
   "source": [
    "#importing datasets\r\n",
    "train_set_os = pd.read_csv('../Data/ProcessedData/train_set_os.csv')\r\n",
    "test_set_os = pd.read_csv('../Data/ProcessedData/test_set_os.csv')\r\n",
    "train_set_os.head()"
   ],
   "outputs": [
    {
     "output_type": "execute_result",
     "data": {
      "text/plain": [
       "       id  Gender       Age  Driving_License  Region_Code  Previously_Insured  \\\n",
       "0  202219       0 -1.149294                1    -0.387554                   1   \n",
       "1  271491       1  1.428816                1    -1.572627                   0   \n",
       "2  276973       0 -1.296615                1    -0.726147                   1   \n",
       "3  368371       1 -1.149294                1    -1.572627                   1   \n",
       "4  257801       1  0.323912                1     0.120334                   1   \n",
       "\n",
       "   Vehicle_Age  Vehicle_Damage  Annual_Premium  Policy_Sales_Channel  \\\n",
       "0            1               0        0.614841              0.933454   \n",
       "1            0               1       -1.590305              0.396525   \n",
       "2            1               0       -0.214043              0.933454   \n",
       "3            1               0        0.259541              1.086863   \n",
       "4            0               0        0.044714              0.358173   \n",
       "\n",
       "    Vintage  Response  \n",
       "0 -0.539227         0  \n",
       "1 -1.002279         1  \n",
       "2 -0.127625         0  \n",
       "3 -0.847928         0  \n",
       "4  0.631266         0  "
      ],
      "text/html": [
       "<div>\n",
       "<style scoped>\n",
       "    .dataframe tbody tr th:only-of-type {\n",
       "        vertical-align: middle;\n",
       "    }\n",
       "\n",
       "    .dataframe tbody tr th {\n",
       "        vertical-align: top;\n",
       "    }\n",
       "\n",
       "    .dataframe thead th {\n",
       "        text-align: right;\n",
       "    }\n",
       "</style>\n",
       "<table border=\"1\" class=\"dataframe\">\n",
       "  <thead>\n",
       "    <tr style=\"text-align: right;\">\n",
       "      <th></th>\n",
       "      <th>id</th>\n",
       "      <th>Gender</th>\n",
       "      <th>Age</th>\n",
       "      <th>Driving_License</th>\n",
       "      <th>Region_Code</th>\n",
       "      <th>Previously_Insured</th>\n",
       "      <th>Vehicle_Age</th>\n",
       "      <th>Vehicle_Damage</th>\n",
       "      <th>Annual_Premium</th>\n",
       "      <th>Policy_Sales_Channel</th>\n",
       "      <th>Vintage</th>\n",
       "      <th>Response</th>\n",
       "    </tr>\n",
       "  </thead>\n",
       "  <tbody>\n",
       "    <tr>\n",
       "      <th>0</th>\n",
       "      <td>202219</td>\n",
       "      <td>0</td>\n",
       "      <td>-1.149294</td>\n",
       "      <td>1</td>\n",
       "      <td>-0.387554</td>\n",
       "      <td>1</td>\n",
       "      <td>1</td>\n",
       "      <td>0</td>\n",
       "      <td>0.614841</td>\n",
       "      <td>0.933454</td>\n",
       "      <td>-0.539227</td>\n",
       "      <td>0</td>\n",
       "    </tr>\n",
       "    <tr>\n",
       "      <th>1</th>\n",
       "      <td>271491</td>\n",
       "      <td>1</td>\n",
       "      <td>1.428816</td>\n",
       "      <td>1</td>\n",
       "      <td>-1.572627</td>\n",
       "      <td>0</td>\n",
       "      <td>0</td>\n",
       "      <td>1</td>\n",
       "      <td>-1.590305</td>\n",
       "      <td>0.396525</td>\n",
       "      <td>-1.002279</td>\n",
       "      <td>1</td>\n",
       "    </tr>\n",
       "    <tr>\n",
       "      <th>2</th>\n",
       "      <td>276973</td>\n",
       "      <td>0</td>\n",
       "      <td>-1.296615</td>\n",
       "      <td>1</td>\n",
       "      <td>-0.726147</td>\n",
       "      <td>1</td>\n",
       "      <td>1</td>\n",
       "      <td>0</td>\n",
       "      <td>-0.214043</td>\n",
       "      <td>0.933454</td>\n",
       "      <td>-0.127625</td>\n",
       "      <td>0</td>\n",
       "    </tr>\n",
       "    <tr>\n",
       "      <th>3</th>\n",
       "      <td>368371</td>\n",
       "      <td>1</td>\n",
       "      <td>-1.149294</td>\n",
       "      <td>1</td>\n",
       "      <td>-1.572627</td>\n",
       "      <td>1</td>\n",
       "      <td>1</td>\n",
       "      <td>0</td>\n",
       "      <td>0.259541</td>\n",
       "      <td>1.086863</td>\n",
       "      <td>-0.847928</td>\n",
       "      <td>0</td>\n",
       "    </tr>\n",
       "    <tr>\n",
       "      <th>4</th>\n",
       "      <td>257801</td>\n",
       "      <td>1</td>\n",
       "      <td>0.323912</td>\n",
       "      <td>1</td>\n",
       "      <td>0.120334</td>\n",
       "      <td>1</td>\n",
       "      <td>0</td>\n",
       "      <td>0</td>\n",
       "      <td>0.044714</td>\n",
       "      <td>0.358173</td>\n",
       "      <td>0.631266</td>\n",
       "      <td>0</td>\n",
       "    </tr>\n",
       "  </tbody>\n",
       "</table>\n",
       "</div>"
      ]
     },
     "metadata": {},
     "execution_count": 5
    }
   ],
   "metadata": {}
  },
  {
   "cell_type": "code",
   "execution_count": 6,
   "source": [
    "X_train = train_set_os.drop('Response', axis=1)\r\n",
    "y_train = train_set_os['Response']\r\n",
    "X_test = test_set_os.drop('Response', axis=1)\r\n",
    "y_test = test_set_os['Response']"
   ],
   "outputs": [],
   "metadata": {}
  },
  {
   "cell_type": "code",
   "execution_count": 7,
   "source": [
    "model_list = [tree, sgd, gnb, mlp, forest, gradient_boost, ada_boost]\r\n",
    "\r\n",
    "evaluate_cat_models(model_list, X_train, X_test, y_train, y_test, cv=5)"
   ],
   "outputs": [
    {
     "output_type": "stream",
     "name": "stdout",
     "text": [
      "Fitting DecisionTreeClassifier()\n",
      "Done with fitting....\n",
      "DecisionTreeClassifier() cross validation\n",
      "Done with cross validation\n",
      "\n",
      "\n",
      "Fitting SGDClassifier()\n",
      "Done with fitting....\n",
      "SGDClassifier() cross validation\n"
     ]
    }
   ],
   "metadata": {}
  },
  {
   "cell_type": "markdown",
   "source": [
    "### Undersampling"
   ],
   "metadata": {}
  },
  {
   "cell_type": "code",
   "execution_count": null,
   "source": [],
   "outputs": [],
   "metadata": {}
  }
 ],
 "metadata": {
  "kernelspec": {
   "name": "python3",
   "display_name": "Python 3.7.0 32-bit"
  },
  "language_info": {
   "codemirror_mode": {
    "name": "ipython",
    "version": 3
   },
   "file_extension": ".py",
   "mimetype": "text/x-python",
   "name": "python",
   "nbconvert_exporter": "python",
   "pygments_lexer": "ipython3",
   "version": "3.7.0"
  },
  "interpreter": {
   "hash": "7fab1ea2a0b14d60b0052063bd6fd333d7ec4a480acf6a61dd01afe4a8b189d0"
  }
 },
 "nbformat": 4,
 "nbformat_minor": 5
}