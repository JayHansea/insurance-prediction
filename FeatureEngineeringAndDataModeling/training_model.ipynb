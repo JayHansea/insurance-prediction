{
 "cells": [
  {
   "cell_type": "markdown",
   "id": "190c1dd8",
   "metadata": {},
   "source": [
    "# Training and Testing Model Predictions"
   ]
  },
  {
   "cell_type": "code",
   "execution_count": 1,
   "id": "43b493cb",
   "metadata": {},
   "outputs": [],
   "source": [
    "#importing packages\n",
    "\n",
    "import sys, os\n",
    "import pickle\n",
    "import numpy as np\n",
    "import pandas as pd\n",
    "import matplotlib.pyplot as plt\n",
    "\n",
    "from sklearn.naive_bayes import GaussianNB\n",
    "from sklearn.tree import DecisionTreeClassifier\n",
    "from sklearn.ensemble import RandomForestClassifier\n",
    "from sklearn.ensemble import GradientBoostingClassifier\n",
    "from sklearn.ensemble import AdaBoostClassifier\n",
    "\n",
    "from sklearn.model_selection import cross_val_score\n",
    "from sklearn.metrics import matthews_corrcoef\n",
    "from sklearn.metrics import make_scorer\n",
    "from sklearn.metrics import plot_confusion_matrix\n",
    "from sklearn.metrics import precision_score, recall_score, f1_score\n",
    "from sklearn.metrics import precision_recall_curve\n",
    "\n",
    "from sklearn.model_selection import GridSearchCV, RandomizedSearchCV\n",
    "\n",
    "sys.path.append(os.path.abspath(os.path.join('..', 'utils')))\n",
    "from utility import evaluate_cat_models, plot_precision_recall_vs_threshold\n",
    "import model_pipeline\n",
    "\n",
    "import warnings\n",
    "warnings.filterwarnings('ignore')"
   ]
  },
  {
   "cell_type": "code",
   "execution_count": 2,
   "id": "52dd80b8",
   "metadata": {},
   "outputs": [],
   "source": [
    "# initialize models\n",
    "\n",
    "gnb = GaussianNB()\n",
    "tree = DecisionTreeClassifier()\n",
    "forest = RandomForestClassifier()\n",
    "gradient_boost = GradientBoostingClassifier()\n",
    "ada_boost = AdaBoostClassifier()\n"
   ]
  },
  {
   "cell_type": "markdown",
   "id": "7d1f6e3a",
   "metadata": {},
   "source": [
    "### Oversampling model"
   ]
  },
  {
   "cell_type": "code",
   "execution_count": 3,
   "id": "7ef6e401",
   "metadata": {},
   "outputs": [
    {
     "data": {
      "text/html": [
       "<div>\n",
       "<style scoped>\n",
       "    .dataframe tbody tr th:only-of-type {\n",
       "        vertical-align: middle;\n",
       "    }\n",
       "\n",
       "    .dataframe tbody tr th {\n",
       "        vertical-align: top;\n",
       "    }\n",
       "\n",
       "    .dataframe thead th {\n",
       "        text-align: right;\n",
       "    }\n",
       "</style>\n",
       "<table border=\"1\" class=\"dataframe\">\n",
       "  <thead>\n",
       "    <tr style=\"text-align: right;\">\n",
       "      <th></th>\n",
       "      <th>Gender</th>\n",
       "      <th>Age</th>\n",
       "      <th>Driving_License</th>\n",
       "      <th>Region_Code</th>\n",
       "      <th>Previously_Insured</th>\n",
       "      <th>Vehicle_Age</th>\n",
       "      <th>Vehicle_Damage</th>\n",
       "      <th>Annual_Premium</th>\n",
       "      <th>Policy_Sales_Channel</th>\n",
       "      <th>Vintage</th>\n",
       "      <th>Response</th>\n",
       "    </tr>\n",
       "  </thead>\n",
       "  <tbody>\n",
       "    <tr>\n",
       "      <th>0</th>\n",
       "      <td>1</td>\n",
       "      <td>0.358453</td>\n",
       "      <td>1</td>\n",
       "      <td>0.113858</td>\n",
       "      <td>1</td>\n",
       "      <td>0</td>\n",
       "      <td>0</td>\n",
       "      <td>1.559160</td>\n",
       "      <td>0.370856</td>\n",
       "      <td>-1.364158</td>\n",
       "      <td>0</td>\n",
       "    </tr>\n",
       "    <tr>\n",
       "      <th>1</th>\n",
       "      <td>1</td>\n",
       "      <td>-0.268326</td>\n",
       "      <td>1</td>\n",
       "      <td>1.698224</td>\n",
       "      <td>0</td>\n",
       "      <td>0</td>\n",
       "      <td>1</td>\n",
       "      <td>-1.592367</td>\n",
       "      <td>0.370856</td>\n",
       "      <td>-0.647879</td>\n",
       "      <td>0</td>\n",
       "    </tr>\n",
       "    <tr>\n",
       "      <th>2</th>\n",
       "      <td>1</td>\n",
       "      <td>0.288811</td>\n",
       "      <td>1</td>\n",
       "      <td>-0.203015</td>\n",
       "      <td>0</td>\n",
       "      <td>0</td>\n",
       "      <td>1</td>\n",
       "      <td>0.181121</td>\n",
       "      <td>-1.381341</td>\n",
       "      <td>-0.062918</td>\n",
       "      <td>0</td>\n",
       "    </tr>\n",
       "    <tr>\n",
       "      <th>3</th>\n",
       "      <td>0</td>\n",
       "      <td>0.288811</td>\n",
       "      <td>1</td>\n",
       "      <td>-0.678324</td>\n",
       "      <td>0</td>\n",
       "      <td>2</td>\n",
       "      <td>1</td>\n",
       "      <td>0.189704</td>\n",
       "      <td>-1.381341</td>\n",
       "      <td>-0.098731</td>\n",
       "      <td>1</td>\n",
       "    </tr>\n",
       "    <tr>\n",
       "      <th>4</th>\n",
       "      <td>1</td>\n",
       "      <td>0.079884</td>\n",
       "      <td>1</td>\n",
       "      <td>0.113858</td>\n",
       "      <td>0</td>\n",
       "      <td>0</td>\n",
       "      <td>1</td>\n",
       "      <td>0.381285</td>\n",
       "      <td>0.370856</td>\n",
       "      <td>-0.588189</td>\n",
       "      <td>0</td>\n",
       "    </tr>\n",
       "  </tbody>\n",
       "</table>\n",
       "</div>"
      ],
      "text/plain": [
       "   Gender       Age  Driving_License  Region_Code  Previously_Insured  \\\n",
       "0       1  0.358453                1     0.113858                   1   \n",
       "1       1 -0.268326                1     1.698224                   0   \n",
       "2       1  0.288811                1    -0.203015                   0   \n",
       "3       0  0.288811                1    -0.678324                   0   \n",
       "4       1  0.079884                1     0.113858                   0   \n",
       "\n",
       "   Vehicle_Age  Vehicle_Damage  Annual_Premium  Policy_Sales_Channel  \\\n",
       "0            0               0        1.559160              0.370856   \n",
       "1            0               1       -1.592367              0.370856   \n",
       "2            0               1        0.181121             -1.381341   \n",
       "3            2               1        0.189704             -1.381341   \n",
       "4            0               1        0.381285              0.370856   \n",
       "\n",
       "    Vintage  Response  \n",
       "0 -1.364158         0  \n",
       "1 -0.647879         0  \n",
       "2 -0.062918         0  \n",
       "3 -0.098731         1  \n",
       "4 -0.588189         0  "
      ]
     },
     "execution_count": 3,
     "metadata": {},
     "output_type": "execute_result"
    }
   ],
   "source": [
    "#importing datasets\n",
    "train_set_os = pd.read_csv('../Data/ProcessedData/train_set_os.csv')\n",
    "test_set_os = pd.read_csv('../Data/ProcessedData/test_set_os.csv')\n",
    "train_set_os.head()"
   ]
  },
  {
   "cell_type": "code",
   "execution_count": 4,
   "id": "30c188b1",
   "metadata": {},
   "outputs": [],
   "source": [
    "X_train_os = train_set_os.drop('Response', axis=1)\n",
    "y_train_os = train_set_os['Response']\n",
    "X_test_os = test_set_os.drop('Response', axis=1)\n",
    "y_test_os = test_set_os['Response']"
   ]
  },
  {
   "cell_type": "code",
   "execution_count": 5,
   "id": "05892a46",
   "metadata": {},
   "outputs": [
    {
     "name": "stdout",
     "output_type": "stream",
     "text": [
      "Fitting DecisionTreeClassifier()\n",
      "Done with fitting....\n",
      "DecisionTreeClassifier() cross validation\n",
      "Done with cross validation\n",
      "\n",
      "\n",
      "Fitting GaussianNB()\n",
      "Done with fitting....\n",
      "GaussianNB() cross validation\n",
      "Done with cross validation\n",
      "\n",
      "\n",
      "Fitting RandomForestClassifier()\n",
      "Done with fitting....\n",
      "RandomForestClassifier() cross validation\n",
      "Done with cross validation\n",
      "\n",
      "\n",
      "Fitting GradientBoostingClassifier()\n",
      "Done with fitting....\n",
      "GradientBoostingClassifier() cross validation\n",
      "Done with cross validation\n",
      "\n",
      "\n",
      "Fitting AdaBoostClassifier()\n",
      "Done with fitting....\n",
      "AdaBoostClassifier() cross validation\n",
      "Done with cross validation\n",
      "\n",
      "\n"
     ]
    },
    {
     "data": {
      "text/html": [
       "<div>\n",
       "<style scoped>\n",
       "    .dataframe tbody tr th:only-of-type {\n",
       "        vertical-align: middle;\n",
       "    }\n",
       "\n",
       "    .dataframe tbody tr th {\n",
       "        vertical-align: top;\n",
       "    }\n",
       "\n",
       "    .dataframe thead th {\n",
       "        text-align: right;\n",
       "    }\n",
       "</style>\n",
       "<table border=\"1\" class=\"dataframe\">\n",
       "  <thead>\n",
       "    <tr style=\"text-align: right;\">\n",
       "      <th></th>\n",
       "      <th>DecisionTreeClassifier()</th>\n",
       "      <th>GaussianNB()</th>\n",
       "      <th>RandomForestClassifier()</th>\n",
       "      <th>GradientBoostingClassifier()</th>\n",
       "      <th>AdaBoostClassifier()</th>\n",
       "    </tr>\n",
       "  </thead>\n",
       "  <tbody>\n",
       "    <tr>\n",
       "      <th>Cross Validated Accuracy Mean</th>\n",
       "      <td>0.944224</td>\n",
       "      <td>0.784162</td>\n",
       "      <td>0.950348</td>\n",
       "      <td>0.797792</td>\n",
       "      <td>0.796740</td>\n",
       "    </tr>\n",
       "    <tr>\n",
       "      <th>Cross Validated Accuracy Std</th>\n",
       "      <td>0.000968</td>\n",
       "      <td>0.000870</td>\n",
       "      <td>0.000381</td>\n",
       "      <td>0.000632</td>\n",
       "      <td>0.000848</td>\n",
       "    </tr>\n",
       "    <tr>\n",
       "      <th>Matthews Coef</th>\n",
       "      <td>0.192973</td>\n",
       "      <td>0.374234</td>\n",
       "      <td>0.219123</td>\n",
       "      <td>0.397608</td>\n",
       "      <td>0.396426</td>\n",
       "    </tr>\n",
       "    <tr>\n",
       "      <th>Precision Score</th>\n",
       "      <td>0.296194</td>\n",
       "      <td>0.251777</td>\n",
       "      <td>0.341767</td>\n",
       "      <td>0.282188</td>\n",
       "      <td>0.280022</td>\n",
       "    </tr>\n",
       "    <tr>\n",
       "      <th>Recall Score</th>\n",
       "      <td>0.284969</td>\n",
       "      <td>0.976687</td>\n",
       "      <td>0.271769</td>\n",
       "      <td>0.923675</td>\n",
       "      <td>0.928359</td>\n",
       "    </tr>\n",
       "    <tr>\n",
       "      <th>F1 Score</th>\n",
       "      <td>0.290473</td>\n",
       "      <td>0.400349</td>\n",
       "      <td>0.302775</td>\n",
       "      <td>0.432305</td>\n",
       "      <td>0.430263</td>\n",
       "    </tr>\n",
       "  </tbody>\n",
       "</table>\n",
       "</div>"
      ],
      "text/plain": [
       "                               DecisionTreeClassifier()  GaussianNB()  \\\n",
       "Cross Validated Accuracy Mean                  0.944224      0.784162   \n",
       "Cross Validated Accuracy Std                   0.000968      0.000870   \n",
       "Matthews Coef                                  0.192973      0.374234   \n",
       "Precision Score                                0.296194      0.251777   \n",
       "Recall Score                                   0.284969      0.976687   \n",
       "F1 Score                                       0.290473      0.400349   \n",
       "\n",
       "                               RandomForestClassifier()  \\\n",
       "Cross Validated Accuracy Mean                  0.950348   \n",
       "Cross Validated Accuracy Std                   0.000381   \n",
       "Matthews Coef                                  0.219123   \n",
       "Precision Score                                0.341767   \n",
       "Recall Score                                   0.271769   \n",
       "F1 Score                                       0.302775   \n",
       "\n",
       "                               GradientBoostingClassifier()  \\\n",
       "Cross Validated Accuracy Mean                      0.797792   \n",
       "Cross Validated Accuracy Std                       0.000632   \n",
       "Matthews Coef                                      0.397608   \n",
       "Precision Score                                    0.282188   \n",
       "Recall Score                                       0.923675   \n",
       "F1 Score                                           0.432305   \n",
       "\n",
       "                               AdaBoostClassifier()  \n",
       "Cross Validated Accuracy Mean              0.796740  \n",
       "Cross Validated Accuracy Std               0.000848  \n",
       "Matthews Coef                              0.396426  \n",
       "Precision Score                            0.280022  \n",
       "Recall Score                               0.928359  \n",
       "F1 Score                                   0.430263  "
      ]
     },
     "execution_count": 5,
     "metadata": {},
     "output_type": "execute_result"
    }
   ],
   "source": [
    "model_list = [tree, gnb, forest, gradient_boost, ada_boost]\n",
    "\n",
    "evaluate_cat_models(model_list, X_train_os, X_test_os, y_train_os, y_test_os, cv=5)"
   ]
  },
  {
   "cell_type": "markdown",
   "id": "9dc2552f",
   "metadata": {},
   "source": [
    "### Undersampling"
   ]
  },
  {
   "cell_type": "code",
   "execution_count": 6,
   "id": "10d1b4f0",
   "metadata": {},
   "outputs": [
    {
     "data": {
      "text/html": [
       "<div>\n",
       "<style scoped>\n",
       "    .dataframe tbody tr th:only-of-type {\n",
       "        vertical-align: middle;\n",
       "    }\n",
       "\n",
       "    .dataframe tbody tr th {\n",
       "        vertical-align: top;\n",
       "    }\n",
       "\n",
       "    .dataframe thead th {\n",
       "        text-align: right;\n",
       "    }\n",
       "</style>\n",
       "<table border=\"1\" class=\"dataframe\">\n",
       "  <thead>\n",
       "    <tr style=\"text-align: right;\">\n",
       "      <th></th>\n",
       "      <th>Gender</th>\n",
       "      <th>Age</th>\n",
       "      <th>Driving_License</th>\n",
       "      <th>Region_Code</th>\n",
       "      <th>Previously_Insured</th>\n",
       "      <th>Vehicle_Age</th>\n",
       "      <th>Vehicle_Damage</th>\n",
       "      <th>Annual_Premium</th>\n",
       "      <th>Policy_Sales_Channel</th>\n",
       "      <th>Vintage</th>\n",
       "      <th>Response</th>\n",
       "    </tr>\n",
       "  </thead>\n",
       "  <tbody>\n",
       "    <tr>\n",
       "      <th>0</th>\n",
       "      <td>0</td>\n",
       "      <td>1.963512</td>\n",
       "      <td>1</td>\n",
       "      <td>0.109859</td>\n",
       "      <td>1</td>\n",
       "      <td>0</td>\n",
       "      <td>1</td>\n",
       "      <td>0.596244</td>\n",
       "      <td>0.369077</td>\n",
       "      <td>-0.720041</td>\n",
       "      <td>0</td>\n",
       "    </tr>\n",
       "    <tr>\n",
       "      <th>1</th>\n",
       "      <td>1</td>\n",
       "      <td>-1.383247</td>\n",
       "      <td>1</td>\n",
       "      <td>-1.472772</td>\n",
       "      <td>0</td>\n",
       "      <td>1</td>\n",
       "      <td>1</td>\n",
       "      <td>0.061435</td>\n",
       "      <td>0.870116</td>\n",
       "      <td>1.708277</td>\n",
       "      <td>0</td>\n",
       "    </tr>\n",
       "    <tr>\n",
       "      <th>2</th>\n",
       "      <td>1</td>\n",
       "      <td>-1.104350</td>\n",
       "      <td>1</td>\n",
       "      <td>0.109859</td>\n",
       "      <td>1</td>\n",
       "      <td>1</td>\n",
       "      <td>0</td>\n",
       "      <td>-0.304569</td>\n",
       "      <td>0.870116</td>\n",
       "      <td>0.236932</td>\n",
       "      <td>0</td>\n",
       "    </tr>\n",
       "    <tr>\n",
       "      <th>3</th>\n",
       "      <td>0</td>\n",
       "      <td>-1.174074</td>\n",
       "      <td>1</td>\n",
       "      <td>-1.393640</td>\n",
       "      <td>0</td>\n",
       "      <td>1</td>\n",
       "      <td>1</td>\n",
       "      <td>-1.580702</td>\n",
       "      <td>1.013270</td>\n",
       "      <td>0.787191</td>\n",
       "      <td>0</td>\n",
       "    </tr>\n",
       "    <tr>\n",
       "      <th>4</th>\n",
       "      <td>1</td>\n",
       "      <td>-1.104350</td>\n",
       "      <td>1</td>\n",
       "      <td>-1.472772</td>\n",
       "      <td>1</td>\n",
       "      <td>1</td>\n",
       "      <td>0</td>\n",
       "      <td>0.498342</td>\n",
       "      <td>0.870116</td>\n",
       "      <td>-1.533468</td>\n",
       "      <td>0</td>\n",
       "    </tr>\n",
       "  </tbody>\n",
       "</table>\n",
       "</div>"
      ],
      "text/plain": [
       "   Gender       Age  Driving_License  Region_Code  Previously_Insured  \\\n",
       "0       0  1.963512                1     0.109859                   1   \n",
       "1       1 -1.383247                1    -1.472772                   0   \n",
       "2       1 -1.104350                1     0.109859                   1   \n",
       "3       0 -1.174074                1    -1.393640                   0   \n",
       "4       1 -1.104350                1    -1.472772                   1   \n",
       "\n",
       "   Vehicle_Age  Vehicle_Damage  Annual_Premium  Policy_Sales_Channel  \\\n",
       "0            0               1        0.596244              0.369077   \n",
       "1            1               1        0.061435              0.870116   \n",
       "2            1               0       -0.304569              0.870116   \n",
       "3            1               1       -1.580702              1.013270   \n",
       "4            1               0        0.498342              0.870116   \n",
       "\n",
       "    Vintage  Response  \n",
       "0 -0.720041         0  \n",
       "1  1.708277         0  \n",
       "2  0.236932         0  \n",
       "3  0.787191         0  \n",
       "4 -1.533468         0  "
      ]
     },
     "execution_count": 6,
     "metadata": {},
     "output_type": "execute_result"
    }
   ],
   "source": [
    "#importing datasets\n",
    "train_set_us = pd.read_csv('../Data/ProcessedData/train_set_us.csv')\n",
    "test_set_us = pd.read_csv('../Data/ProcessedData/test_set_us.csv')\n",
    "train_set_us.head()"
   ]
  },
  {
   "cell_type": "code",
   "execution_count": 7,
   "id": "fcdaef10",
   "metadata": {},
   "outputs": [],
   "source": [
    "X_train_us = train_set_us.drop('Response', axis=1)\n",
    "y_train_us = train_set_us['Response']\n",
    "X_test_us = test_set_us.drop('Response', axis=1)\n",
    "y_test_us = test_set_us['Response']"
   ]
  },
  {
   "cell_type": "code",
   "execution_count": 8,
   "id": "d24e88c4",
   "metadata": {},
   "outputs": [
    {
     "name": "stdout",
     "output_type": "stream",
     "text": [
      "Fitting DecisionTreeClassifier()\n",
      "Done with fitting....\n",
      "DecisionTreeClassifier() cross validation\n",
      "Done with cross validation\n",
      "\n",
      "\n",
      "Fitting GaussianNB()\n",
      "Done with fitting....\n",
      "GaussianNB() cross validation\n",
      "Done with cross validation\n",
      "\n",
      "\n",
      "Fitting RandomForestClassifier()\n",
      "Done with fitting....\n",
      "RandomForestClassifier() cross validation\n",
      "Done with cross validation\n",
      "\n",
      "\n",
      "Fitting GradientBoostingClassifier()\n",
      "Done with fitting....\n",
      "GradientBoostingClassifier() cross validation\n",
      "Done with cross validation\n",
      "\n",
      "\n",
      "Fitting AdaBoostClassifier()\n",
      "Done with fitting....\n",
      "AdaBoostClassifier() cross validation\n",
      "Done with cross validation\n",
      "\n",
      "\n"
     ]
    },
    {
     "data": {
      "text/html": [
       "<div>\n",
       "<style scoped>\n",
       "    .dataframe tbody tr th:only-of-type {\n",
       "        vertical-align: middle;\n",
       "    }\n",
       "\n",
       "    .dataframe tbody tr th {\n",
       "        vertical-align: top;\n",
       "    }\n",
       "\n",
       "    .dataframe thead th {\n",
       "        text-align: right;\n",
       "    }\n",
       "</style>\n",
       "<table border=\"1\" class=\"dataframe\">\n",
       "  <thead>\n",
       "    <tr style=\"text-align: right;\">\n",
       "      <th></th>\n",
       "      <th>DecisionTreeClassifier()</th>\n",
       "      <th>GaussianNB()</th>\n",
       "      <th>RandomForestClassifier()</th>\n",
       "      <th>GradientBoostingClassifier()</th>\n",
       "      <th>AdaBoostClassifier()</th>\n",
       "    </tr>\n",
       "  </thead>\n",
       "  <tbody>\n",
       "    <tr>\n",
       "      <th>Cross Validated Accuracy Mean</th>\n",
       "      <td>0.715551</td>\n",
       "      <td>0.785776</td>\n",
       "      <td>0.784315</td>\n",
       "      <td>0.797352</td>\n",
       "      <td>0.796615</td>\n",
       "    </tr>\n",
       "    <tr>\n",
       "      <th>Cross Validated Accuracy Std</th>\n",
       "      <td>0.004974</td>\n",
       "      <td>0.004142</td>\n",
       "      <td>0.002645</td>\n",
       "      <td>0.003045</td>\n",
       "      <td>0.003571</td>\n",
       "    </tr>\n",
       "    <tr>\n",
       "      <th>Matthews Coef</th>\n",
       "      <td>0.061246</td>\n",
       "      <td>0.374234</td>\n",
       "      <td>-0.005479</td>\n",
       "      <td>0.063443</td>\n",
       "      <td>0.055882</td>\n",
       "    </tr>\n",
       "    <tr>\n",
       "      <th>Precision Score</th>\n",
       "      <td>0.165485</td>\n",
       "      <td>0.251777</td>\n",
       "      <td>0.104749</td>\n",
       "      <td>0.220756</td>\n",
       "      <td>0.202360</td>\n",
       "    </tr>\n",
       "    <tr>\n",
       "      <th>Recall Score</th>\n",
       "      <td>0.248563</td>\n",
       "      <td>0.976687</td>\n",
       "      <td>0.007984</td>\n",
       "      <td>0.078348</td>\n",
       "      <td>0.083990</td>\n",
       "    </tr>\n",
       "    <tr>\n",
       "      <th>F1 Score</th>\n",
       "      <td>0.198690</td>\n",
       "      <td>0.400349</td>\n",
       "      <td>0.014837</td>\n",
       "      <td>0.115651</td>\n",
       "      <td>0.118709</td>\n",
       "    </tr>\n",
       "  </tbody>\n",
       "</table>\n",
       "</div>"
      ],
      "text/plain": [
       "                               DecisionTreeClassifier()  GaussianNB()  \\\n",
       "Cross Validated Accuracy Mean                  0.715551      0.785776   \n",
       "Cross Validated Accuracy Std                   0.004974      0.004142   \n",
       "Matthews Coef                                  0.061246      0.374234   \n",
       "Precision Score                                0.165485      0.251777   \n",
       "Recall Score                                   0.248563      0.976687   \n",
       "F1 Score                                       0.198690      0.400349   \n",
       "\n",
       "                               RandomForestClassifier()  \\\n",
       "Cross Validated Accuracy Mean                  0.784315   \n",
       "Cross Validated Accuracy Std                   0.002645   \n",
       "Matthews Coef                                 -0.005479   \n",
       "Precision Score                                0.104749   \n",
       "Recall Score                                   0.007984   \n",
       "F1 Score                                       0.014837   \n",
       "\n",
       "                               GradientBoostingClassifier()  \\\n",
       "Cross Validated Accuracy Mean                      0.797352   \n",
       "Cross Validated Accuracy Std                       0.003045   \n",
       "Matthews Coef                                      0.063443   \n",
       "Precision Score                                    0.220756   \n",
       "Recall Score                                       0.078348   \n",
       "F1 Score                                           0.115651   \n",
       "\n",
       "                               AdaBoostClassifier()  \n",
       "Cross Validated Accuracy Mean              0.796615  \n",
       "Cross Validated Accuracy Std               0.003571  \n",
       "Matthews Coef                              0.055882  \n",
       "Precision Score                            0.202360  \n",
       "Recall Score                               0.083990  \n",
       "F1 Score                                   0.118709  "
      ]
     },
     "execution_count": 8,
     "metadata": {},
     "output_type": "execute_result"
    }
   ],
   "source": [
    "model_list = [tree, gnb, forest, gradient_boost, ada_boost]\n",
    "\n",
    "evaluate_cat_models(model_list, X_train_us, X_test_us, y_train_us, y_test_us, cv=5)"
   ]
  },
  {
   "cell_type": "markdown",
   "id": "74076ca5",
   "metadata": {},
   "source": [
    "### Smote"
   ]
  },
  {
   "cell_type": "code",
   "execution_count": 9,
   "id": "ef4d13a6",
   "metadata": {},
   "outputs": [
    {
     "data": {
      "text/html": [
       "<div>\n",
       "<style scoped>\n",
       "    .dataframe tbody tr th:only-of-type {\n",
       "        vertical-align: middle;\n",
       "    }\n",
       "\n",
       "    .dataframe tbody tr th {\n",
       "        vertical-align: top;\n",
       "    }\n",
       "\n",
       "    .dataframe thead th {\n",
       "        text-align: right;\n",
       "    }\n",
       "</style>\n",
       "<table border=\"1\" class=\"dataframe\">\n",
       "  <thead>\n",
       "    <tr style=\"text-align: right;\">\n",
       "      <th></th>\n",
       "      <th>Gender</th>\n",
       "      <th>Age</th>\n",
       "      <th>Driving_License</th>\n",
       "      <th>Region_Code</th>\n",
       "      <th>Previously_Insured</th>\n",
       "      <th>Vehicle_Age</th>\n",
       "      <th>Vehicle_Damage</th>\n",
       "      <th>Annual_Premium</th>\n",
       "      <th>Policy_Sales_Channel</th>\n",
       "      <th>Vintage</th>\n",
       "      <th>Response</th>\n",
       "    </tr>\n",
       "  </thead>\n",
       "  <tbody>\n",
       "    <tr>\n",
       "      <th>0</th>\n",
       "      <td>1</td>\n",
       "      <td>0.394989</td>\n",
       "      <td>1</td>\n",
       "      <td>0.116627</td>\n",
       "      <td>1</td>\n",
       "      <td>0</td>\n",
       "      <td>0</td>\n",
       "      <td>1.568494</td>\n",
       "      <td>0.374890</td>\n",
       "      <td>-1.373175</td>\n",
       "      <td>0</td>\n",
       "    </tr>\n",
       "    <tr>\n",
       "      <th>1</th>\n",
       "      <td>1</td>\n",
       "      <td>-0.259886</td>\n",
       "      <td>1</td>\n",
       "      <td>1.776671</td>\n",
       "      <td>0</td>\n",
       "      <td>0</td>\n",
       "      <td>1</td>\n",
       "      <td>-1.600893</td>\n",
       "      <td>0.374890</td>\n",
       "      <td>-0.651268</td>\n",
       "      <td>0</td>\n",
       "    </tr>\n",
       "    <tr>\n",
       "      <th>2</th>\n",
       "      <td>1</td>\n",
       "      <td>0.322226</td>\n",
       "      <td>1</td>\n",
       "      <td>-0.215381</td>\n",
       "      <td>0</td>\n",
       "      <td>0</td>\n",
       "      <td>1</td>\n",
       "      <td>0.182645</td>\n",
       "      <td>-1.387352</td>\n",
       "      <td>-0.061711</td>\n",
       "      <td>0</td>\n",
       "    </tr>\n",
       "    <tr>\n",
       "      <th>3</th>\n",
       "      <td>0</td>\n",
       "      <td>0.322226</td>\n",
       "      <td>1</td>\n",
       "      <td>-0.713394</td>\n",
       "      <td>0</td>\n",
       "      <td>2</td>\n",
       "      <td>1</td>\n",
       "      <td>0.191277</td>\n",
       "      <td>-1.387352</td>\n",
       "      <td>-0.097806</td>\n",
       "      <td>1</td>\n",
       "    </tr>\n",
       "    <tr>\n",
       "      <th>4</th>\n",
       "      <td>1</td>\n",
       "      <td>0.103934</td>\n",
       "      <td>1</td>\n",
       "      <td>0.116627</td>\n",
       "      <td>0</td>\n",
       "      <td>0</td>\n",
       "      <td>1</td>\n",
       "      <td>0.383944</td>\n",
       "      <td>0.374890</td>\n",
       "      <td>-0.591109</td>\n",
       "      <td>0</td>\n",
       "    </tr>\n",
       "  </tbody>\n",
       "</table>\n",
       "</div>"
      ],
      "text/plain": [
       "   Gender       Age  Driving_License  Region_Code  Previously_Insured  \\\n",
       "0       1  0.394989                1     0.116627                   1   \n",
       "1       1 -0.259886                1     1.776671                   0   \n",
       "2       1  0.322226                1    -0.215381                   0   \n",
       "3       0  0.322226                1    -0.713394                   0   \n",
       "4       1  0.103934                1     0.116627                   0   \n",
       "\n",
       "   Vehicle_Age  Vehicle_Damage  Annual_Premium  Policy_Sales_Channel  \\\n",
       "0            0               0        1.568494              0.374890   \n",
       "1            0               1       -1.600893              0.374890   \n",
       "2            0               1        0.182645             -1.387352   \n",
       "3            2               1        0.191277             -1.387352   \n",
       "4            0               1        0.383944              0.374890   \n",
       "\n",
       "    Vintage  Response  \n",
       "0 -1.373175         0  \n",
       "1 -0.651268         0  \n",
       "2 -0.061711         0  \n",
       "3 -0.097806         1  \n",
       "4 -0.591109         0  "
      ]
     },
     "execution_count": 9,
     "metadata": {},
     "output_type": "execute_result"
    }
   ],
   "source": [
    "#importing datasets\n",
    "train_set_sm = pd.read_csv('../Data/ProcessedData/train_set_sm.csv')\n",
    "test_set_sm = pd.read_csv('../Data/ProcessedData/test_set_sm.csv')\n",
    "train_set_sm.head()"
   ]
  },
  {
   "cell_type": "code",
   "execution_count": 10,
   "id": "236772af",
   "metadata": {},
   "outputs": [],
   "source": [
    "X_train_sm = train_set_sm.drop('Response', axis=1)\n",
    "y_train_sm = train_set_sm['Response']\n",
    "X_test_sm = test_set_sm.drop('Response', axis=1)\n",
    "y_test_sm = test_set_sm['Response']"
   ]
  },
  {
   "cell_type": "code",
   "execution_count": 11,
   "id": "93d03ce4",
   "metadata": {},
   "outputs": [
    {
     "name": "stdout",
     "output_type": "stream",
     "text": [
      "Fitting DecisionTreeClassifier()\n",
      "Done with fitting....\n",
      "DecisionTreeClassifier() cross validation\n",
      "Done with cross validation\n",
      "\n",
      "\n",
      "Fitting GaussianNB()\n",
      "Done with fitting....\n",
      "GaussianNB() cross validation\n",
      "Done with cross validation\n",
      "\n",
      "\n",
      "Fitting RandomForestClassifier()\n",
      "Done with fitting....\n",
      "RandomForestClassifier() cross validation\n",
      "Done with cross validation\n",
      "\n",
      "\n",
      "Fitting GradientBoostingClassifier()\n",
      "Done with fitting....\n",
      "GradientBoostingClassifier() cross validation\n",
      "Done with cross validation\n",
      "\n",
      "\n",
      "Fitting AdaBoostClassifier()\n",
      "Done with fitting....\n",
      "AdaBoostClassifier() cross validation\n",
      "Done with cross validation\n",
      "\n",
      "\n"
     ]
    },
    {
     "data": {
      "text/html": [
       "<div>\n",
       "<style scoped>\n",
       "    .dataframe tbody tr th:only-of-type {\n",
       "        vertical-align: middle;\n",
       "    }\n",
       "\n",
       "    .dataframe tbody tr th {\n",
       "        vertical-align: top;\n",
       "    }\n",
       "\n",
       "    .dataframe thead th {\n",
       "        text-align: right;\n",
       "    }\n",
       "</style>\n",
       "<table border=\"1\" class=\"dataframe\">\n",
       "  <thead>\n",
       "    <tr style=\"text-align: right;\">\n",
       "      <th></th>\n",
       "      <th>DecisionTreeClassifier()</th>\n",
       "      <th>GaussianNB()</th>\n",
       "      <th>RandomForestClassifier()</th>\n",
       "      <th>GradientBoostingClassifier()</th>\n",
       "      <th>AdaBoostClassifier()</th>\n",
       "    </tr>\n",
       "  </thead>\n",
       "  <tbody>\n",
       "    <tr>\n",
       "      <th>Cross Validated Accuracy Mean</th>\n",
       "      <td>0.871279</td>\n",
       "      <td>0.776456</td>\n",
       "      <td>0.879576</td>\n",
       "      <td>0.835771</td>\n",
       "      <td>0.824699</td>\n",
       "    </tr>\n",
       "    <tr>\n",
       "      <th>Cross Validated Accuracy Std</th>\n",
       "      <td>0.073449</td>\n",
       "      <td>0.002746</td>\n",
       "      <td>0.065173</td>\n",
       "      <td>0.038845</td>\n",
       "      <td>0.031305</td>\n",
       "    </tr>\n",
       "    <tr>\n",
       "      <th>Matthews Coef</th>\n",
       "      <td>-0.057026</td>\n",
       "      <td>0.330163</td>\n",
       "      <td>-0.024839</td>\n",
       "      <td>0.000000</td>\n",
       "      <td>0.000000</td>\n",
       "    </tr>\n",
       "    <tr>\n",
       "      <th>Precision Score</th>\n",
       "      <td>0.009862</td>\n",
       "      <td>0.281569</td>\n",
       "      <td>0.007895</td>\n",
       "      <td>0.000000</td>\n",
       "      <td>0.000000</td>\n",
       "    </tr>\n",
       "    <tr>\n",
       "      <th>Recall Score</th>\n",
       "      <td>0.002129</td>\n",
       "      <td>0.730360</td>\n",
       "      <td>0.000319</td>\n",
       "      <td>0.000000</td>\n",
       "      <td>0.000000</td>\n",
       "    </tr>\n",
       "    <tr>\n",
       "      <th>F1 Score</th>\n",
       "      <td>0.003502</td>\n",
       "      <td>0.406445</td>\n",
       "      <td>0.000614</td>\n",
       "      <td>0.000000</td>\n",
       "      <td>0.000000</td>\n",
       "    </tr>\n",
       "  </tbody>\n",
       "</table>\n",
       "</div>"
      ],
      "text/plain": [
       "                               DecisionTreeClassifier()  GaussianNB()  \\\n",
       "Cross Validated Accuracy Mean                  0.871279      0.776456   \n",
       "Cross Validated Accuracy Std                   0.073449      0.002746   \n",
       "Matthews Coef                                 -0.057026      0.330163   \n",
       "Precision Score                                0.009862      0.281569   \n",
       "Recall Score                                   0.002129      0.730360   \n",
       "F1 Score                                       0.003502      0.406445   \n",
       "\n",
       "                               RandomForestClassifier()  \\\n",
       "Cross Validated Accuracy Mean                  0.879576   \n",
       "Cross Validated Accuracy Std                   0.065173   \n",
       "Matthews Coef                                 -0.024839   \n",
       "Precision Score                                0.007895   \n",
       "Recall Score                                   0.000319   \n",
       "F1 Score                                       0.000614   \n",
       "\n",
       "                               GradientBoostingClassifier()  \\\n",
       "Cross Validated Accuracy Mean                      0.835771   \n",
       "Cross Validated Accuracy Std                       0.038845   \n",
       "Matthews Coef                                      0.000000   \n",
       "Precision Score                                    0.000000   \n",
       "Recall Score                                       0.000000   \n",
       "F1 Score                                           0.000000   \n",
       "\n",
       "                               AdaBoostClassifier()  \n",
       "Cross Validated Accuracy Mean              0.824699  \n",
       "Cross Validated Accuracy Std               0.031305  \n",
       "Matthews Coef                              0.000000  \n",
       "Precision Score                            0.000000  \n",
       "Recall Score                               0.000000  \n",
       "F1 Score                                   0.000000  "
      ]
     },
     "execution_count": 11,
     "metadata": {},
     "output_type": "execute_result"
    }
   ],
   "source": [
    "model_list = [tree, gnb, forest, gradient_boost, ada_boost]\n",
    "\n",
    "evaluate_cat_models(model_list, X_train_sm, X_test_sm, y_train_sm, y_test_sm, cv=5)"
   ]
  },
  {
   "cell_type": "markdown",
   "id": "f8095054",
   "metadata": {},
   "source": [
    "## Hyperparameter tuning for Gradient Boosting Classifier"
   ]
  },
  {
   "cell_type": "markdown",
   "id": "e143b59c",
   "metadata": {},
   "source": [
    "Boosting is a sequential technique that works on the principle of ensemble. It combines a set of weak learners and delivers improved prediction accuracy.\n",
    "\n",
    "The parameters for gradient boosting classifier are broken down into three categories\n",
    "\n",
    "1. Tree-Specific Parameters: These affect each individual tree in the model\n",
    "2. Boosting Parameters: These affect the boosting operation in the model\n",
    "3. Miscellaneous Parameters: Other parameters for overall function\n",
    "\n",
    "**Tree-Specific Parameters**\n",
    "1. min_samples_split: \n",
    "    - Defines the minimum number of observations which is required in a node to be considered for spliting\n",
    "2. min_samples_leaf: \n",
    "    - Defines the minimum observations required in a terminal node or leaf\n",
    "3. min_weight_fraction_leaf\n",
    "    - Similar to min_samples_leaf but defined as fraction of the total number of observations instead of an integer\n",
    "4. max_depth\n",
    "    - The maximum depth of a tree\n",
    "5. max_leaf_nodes\n",
    "    - The maximum number of terminal nodes or leaves in a tree\n",
    "6. max_features\n",
    "    - The number of features to consider while searching for a best split\n",
    "\n",
    "\n",
    "**Boosting Paramters**\n",
    "1. learning_rate\n",
    "    - This determines the impact of each tree on the final outcome. \n",
    "2. n_estimators\n",
    "    - The number of sequential trees to be modeled\n",
    "3. subsample\n",
    "    - The fraction of observations to be selected for each tree. Values slightly less than 1 makes the model robust\n",
    "    \n",
    "    \n",
    "**Other Parameters**\n",
    "1. loss\n",
    "    - It refers to the loss function\n",
    "2. init\n",
    "    - This affects initialization of the output\n",
    "3. random_state\n",
    "    - The random number seed\n",
    "4. verbose\n",
    "    - The type of output to be printed when the model fits\n",
    "5. warm_start\n",
    "    - This parameter helps us fit additional trees on previous fit of a model\n",
    "6. presort\n",
    "    - Select whether to presort data for faster splits"
   ]
  },
  {
   "cell_type": "code",
   "execution_count": 12,
   "id": "1b148f10",
   "metadata": {},
   "outputs": [],
   "source": [
    "columns = train_set_os.columns"
   ]
  },
  {
   "cell_type": "code",
   "execution_count": 13,
   "id": "15e79c37",
   "metadata": {},
   "outputs": [],
   "source": [
    "def plot_feature_imp(feature_imp, columns):\n",
    "    plt.plot(columns, feature_imp, kind='bar')\n",
    "    plt.show()"
   ]
  },
  {
   "cell_type": "code",
   "execution_count": 14,
   "id": "e1eb6369",
   "metadata": {},
   "outputs": [],
   "source": [
    "gradient_boost = GradientBoostingClassifier(n_estimators=60, max_features='sqrt',\n",
    "                                           subsample=.8, random_state=10)"
   ]
  },
  {
   "cell_type": "code",
   "execution_count": 15,
   "id": "f8b8facb",
   "metadata": {},
   "outputs": [],
   "source": [
    "param_grid = {\n",
    "    'min_samples_split': range(20000, 26667, 200),\n",
    "    'max_depth': range(6, 16),\n",
    "    'learning_rate': np.linspace(0.0001, 0.1, 50)\n",
    "} \n",
    "rs = RandomizedSearchCV(gradient_boost, param_grid, cv=3, scoring=make_scorer(matthews_corrcoef), n_jobs=-1, n_iter=200, verbose=21)"
   ]
  },
  {
   "cell_type": "code",
   "execution_count": 16,
   "id": "14c1fd98",
   "metadata": {},
   "outputs": [
    {
     "name": "stdout",
     "output_type": "stream",
     "text": [
      "Fitting 3 folds for each of 200 candidates, totalling 600 fits\n"
     ]
    },
    {
     "data": {
      "text/plain": [
       "RandomizedSearchCV(cv=3,\n",
       "                   estimator=GradientBoostingClassifier(max_features='sqrt',\n",
       "                                                        n_estimators=60,\n",
       "                                                        random_state=10,\n",
       "                                                        subsample=0.8),\n",
       "                   n_iter=200, n_jobs=-1,\n",
       "                   param_distributions={'learning_rate': array([0.0001    , 0.00213878, 0.00417755, 0.00621633, 0.0082551 ,\n",
       "       0.01029388, 0.01233265, 0.01437143, 0.0164102 , 0.01844898,\n",
       "       0.02048776, 0.02252653, 0.02456531, 0.02660408, 0.0286428...\n",
       "       0.05106939, 0.05310816, 0.05514694, 0.05718571, 0.05922449,\n",
       "       0.06126327, 0.06330204, 0.06534082, 0.06737959, 0.06941837,\n",
       "       0.07145714, 0.07349592, 0.07553469, 0.07757347, 0.07961224,\n",
       "       0.08165102, 0.0836898 , 0.08572857, 0.08776735, 0.08980612,\n",
       "       0.0918449 , 0.09388367, 0.09592245, 0.09796122, 0.1       ]),\n",
       "                                        'max_depth': range(6, 16),\n",
       "                                        'min_samples_split': range(20000, 26667, 200)},\n",
       "                   scoring=make_scorer(matthews_corrcoef), verbose=21)"
      ]
     },
     "execution_count": 16,
     "metadata": {},
     "output_type": "execute_result"
    }
   ],
   "source": [
    "rs.fit(X_train_os, y_train_os)"
   ]
  },
  {
   "cell_type": "code",
   "execution_count": 17,
   "id": "34683032",
   "metadata": {},
   "outputs": [
    {
     "data": {
      "text/plain": [
       "GradientBoostingClassifier(learning_rate=0.09184489795918369, max_depth=10,\n",
       "                           max_features='sqrt', min_samples_split=20000,\n",
       "                           n_estimators=60, random_state=10, subsample=0.8)"
      ]
     },
     "execution_count": 17,
     "metadata": {},
     "output_type": "execute_result"
    }
   ],
   "source": [
    "rs.best_estimator_"
   ]
  },
  {
   "cell_type": "code",
   "execution_count": 19,
   "id": "20494ef0",
   "metadata": {},
   "outputs": [],
   "source": [
    "pickle.dump(rs.best_estimator_, open('../models/gradient_boost.pkl', 'wb'))"
   ]
  },
  {
   "cell_type": "code",
   "execution_count": 20,
   "id": "8018f981",
   "metadata": {},
   "outputs": [],
   "source": [
    "model = pickle.load(open('../models/gradient_boost.pkl', 'rb'))"
   ]
  },
  {
   "cell_type": "code",
   "execution_count": 21,
   "id": "db26e077",
   "metadata": {},
   "outputs": [
    {
     "name": "stdout",
     "output_type": "stream",
     "text": [
      "Fitting GradientBoostingClassifier(learning_rate=0.09184489795918369, max_depth=10,\n",
      "                           max_features='sqrt', min_samples_split=20000,\n",
      "                           n_estimators=60, random_state=10, subsample=0.8)\n",
      "Done with fitting....\n",
      "GradientBoostingClassifier(learning_rate=0.09184489795918369, max_depth=10,\n",
      "                           max_features='sqrt', min_samples_split=20000,\n",
      "                           n_estimators=60, random_state=10, subsample=0.8) cross validation\n",
      "Done with cross validation\n",
      "\n",
      "\n"
     ]
    },
    {
     "data": {
      "text/html": [
       "<div>\n",
       "<style scoped>\n",
       "    .dataframe tbody tr th:only-of-type {\n",
       "        vertical-align: middle;\n",
       "    }\n",
       "\n",
       "    .dataframe tbody tr th {\n",
       "        vertical-align: top;\n",
       "    }\n",
       "\n",
       "    .dataframe thead th {\n",
       "        text-align: right;\n",
       "    }\n",
       "</style>\n",
       "<table border=\"1\" class=\"dataframe\">\n",
       "  <thead>\n",
       "    <tr style=\"text-align: right;\">\n",
       "      <th></th>\n",
       "      <th>GradientBoostingClassifier(learning_rate=0.09184489795918369, max_depth=10,\\n                           max_features='sqrt', min_samples_split=20000,\\n                           n_estimators=60, random_state=10, subsample=0.8)</th>\n",
       "    </tr>\n",
       "  </thead>\n",
       "  <tbody>\n",
       "    <tr>\n",
       "      <th>Cross Validated Accuracy Mean</th>\n",
       "      <td>0.799315</td>\n",
       "    </tr>\n",
       "    <tr>\n",
       "      <th>Cross Validated Accuracy Std</th>\n",
       "      <td>0.000973</td>\n",
       "    </tr>\n",
       "    <tr>\n",
       "      <th>Matthews Coef</th>\n",
       "      <td>0.400640</td>\n",
       "    </tr>\n",
       "    <tr>\n",
       "      <th>Precision Score</th>\n",
       "      <td>0.284052</td>\n",
       "    </tr>\n",
       "    <tr>\n",
       "      <th>Recall Score</th>\n",
       "      <td>0.925271</td>\n",
       "    </tr>\n",
       "    <tr>\n",
       "      <th>F1 Score</th>\n",
       "      <td>0.434665</td>\n",
       "    </tr>\n",
       "  </tbody>\n",
       "</table>\n",
       "</div>"
      ],
      "text/plain": [
       "                               GradientBoostingClassifier(learning_rate=0.09184489795918369, max_depth=10,\\n                           max_features='sqrt', min_samples_split=20000,\\n                           n_estimators=60, random_state=10, subsample=0.8)\n",
       "Cross Validated Accuracy Mean                                           0.799315                                                                                                                                                                                 \n",
       "Cross Validated Accuracy Std                                            0.000973                                                                                                                                                                                 \n",
       "Matthews Coef                                                           0.400640                                                                                                                                                                                 \n",
       "Precision Score                                                         0.284052                                                                                                                                                                                 \n",
       "Recall Score                                                            0.925271                                                                                                                                                                                 \n",
       "F1 Score                                                                0.434665                                                                                                                                                                                 "
      ]
     },
     "execution_count": 21,
     "metadata": {},
     "output_type": "execute_result"
    }
   ],
   "source": [
    "evaluate_cat_models([model], X_train_os, X_test_os, y_train_os, y_test_os, cv=5)"
   ]
  },
  {
   "cell_type": "markdown",
   "id": "d74b407b",
   "metadata": {},
   "source": [
    "## Model Interpretation"
   ]
  },
  {
   "cell_type": "markdown",
   "id": "9b898b05",
   "metadata": {},
   "source": [
    "- `Positive Class`: A policyholder is interested in vehicle insurance\n",
    "- `Negative Class`: A policyholder is not interested in vehicle insurance"
   ]
  },
  {
   "cell_type": "code",
   "execution_count": 22,
   "id": "7cc1e7f8",
   "metadata": {},
   "outputs": [],
   "source": [
    "y_pred = model.predict(X_test_os)"
   ]
  },
  {
   "cell_type": "code",
   "execution_count": 23,
   "id": "aafe5e0c",
   "metadata": {},
   "outputs": [
    {
     "data": {
      "image/png": "[encoded data removed]",
      "text/plain": [
       "<Figure size 864x576 with 2 Axes>"
      ]
     },
     "metadata": {
      "needs_background": "light"
     },
     "output_type": "display_data"
    }
   ],
   "source": [
    "fig, ax = plt.subplots(figsize=(12, 8))\n",
    "plot_confusion_matrix(model, X_test_os, y_test_os, ax=ax)\n",
    "fig.savefig('../DataAnalysisAndViz/plots/conf_mat.jpeg', dpi=82)\n",
    "plt.show()"
   ]
  },
  {
   "cell_type": "markdown",
   "id": "aa20743a",
   "metadata": {},
   "source": [
    "**Observation**\n",
    "1. The model predicts the positive class when it was actually the positive class 8692 times\n",
    "2. The model predicts the positive class when it was actually the negative class 21908 times \n",
    "3. The model predicts the negative class when it was actually the positive class 702 times \n",
    "4. The model predicts the negative class when it was actually the negative class 449270 times "
   ]
  },
  {
   "cell_type": "code",
   "execution_count": 24,
   "id": "fead016f",
   "metadata": {},
   "outputs": [
    {
     "data": {
      "text/plain": [
       "0.28405228758169937"
      ]
     },
     "execution_count": 24,
     "metadata": {},
     "output_type": "execute_result"
    }
   ],
   "source": [
    "precision_score(y_test_os, y_pred, pos_label=1)"
   ]
  },
  {
   "cell_type": "code",
   "execution_count": 25,
   "id": "153d8e40",
   "metadata": {},
   "outputs": [
    {
     "data": {
      "text/plain": [
       "0.9252714498616138"
      ]
     },
     "execution_count": 25,
     "metadata": {},
     "output_type": "execute_result"
    }
   ],
   "source": [
    "recall_score(y_test_os, y_pred, pos_label=1)"
   ]
  },
  {
   "cell_type": "code",
   "execution_count": 26,
   "id": "b615d36b",
   "metadata": {},
   "outputs": [
    {
     "data": {
      "text/plain": [
       "0.434665199779967"
      ]
     },
     "execution_count": 26,
     "metadata": {},
     "output_type": "execute_result"
    }
   ],
   "source": [
    "f1_score(y_test_os, y_pred, pos_label=1)"
   ]
  },
  {
   "cell_type": "markdown",
   "id": "69e70a8a",
   "metadata": {},
   "source": [
    "The `precision` is the proportion of true positives out of all detected positives or simply\n",
    "\n",
    "**TP / (TP + FP)**\n",
    "\n",
    "8692 / (8692 + 21908) = 0.284\n",
    "\n",
    "The `recall` is the number of true positives that are correctly classified or simply\n",
    "\n",
    "**TP / (TP + FN)**\n",
    "\n",
    "8692 / (8692 + 702) = 0.925\n",
    "\n",
    "Finally, the `f1 score` is the harmonic mean of precision and recall. This computes to 44%"
   ]
  },
  {
   "cell_type": "markdown",
   "id": "7f08f600",
   "metadata": {},
   "source": [
    "Precision and recall and by extension, f1 score are skewed one class, if we flip the positive class, we get a total new precision and recall (even f1 score)"
   ]
  },
  {
   "cell_type": "code",
   "execution_count": 27,
   "id": "51ff35ca",
   "metadata": {},
   "outputs": [
    {
     "data": {
      "text/plain": [
       "0.9846126868616019"
      ]
     },
     "execution_count": 27,
     "metadata": {},
     "output_type": "execute_result"
    }
   ],
   "source": [
    "precision_score(y_test_os, y_pred, pos_label=0)"
   ]
  },
  {
   "cell_type": "code",
   "execution_count": 28,
   "id": "ac5fa2c9",
   "metadata": {},
   "outputs": [
    {
     "data": {
      "text/plain": [
       "0.6721733405159513"
      ]
     },
     "execution_count": 28,
     "metadata": {},
     "output_type": "execute_result"
    }
   ],
   "source": [
    "recall_score(y_test_os, y_pred, pos_label=0)"
   ]
  },
  {
   "cell_type": "code",
   "execution_count": 29,
   "id": "b3be1a61",
   "metadata": {},
   "outputs": [
    {
     "data": {
      "text/plain": [
       "0.7989328590484659"
      ]
     },
     "execution_count": 29,
     "metadata": {},
     "output_type": "execute_result"
    }
   ],
   "source": [
    "f1_score(y_test_os, y_pred, pos_label=0)"
   ]
  },
  {
   "cell_type": "markdown",
   "id": "42ae1673",
   "metadata": {},
   "source": [
    "This is because, the metrics does not take `True Negative` into accounts, in this case, our model does not care how it performs in detecting policy holders that are not interested in vehicle insurance"
   ]
  },
  {
   "cell_type": "markdown",
   "id": "d77bb157",
   "metadata": {},
   "source": [
    "In business context\n",
    "\n",
    "- If advertising vehicle insurance to health insurance policy holder would be very expensive, then we optimize the model for precision, because we want to be very sure that they would be interested\n",
    "- If advertising vehicle insurance to health insurance policy holder would not be very expensive, then we optimize the model for recall, because we want to advertise to everyone that would be interested.\n",
    "> A naive model would advertise to all policy holders\n",
    "\n",
    "In this context, we would optimize for precision"
   ]
  },
  {
   "cell_type": "code",
   "execution_count": 30,
   "id": "00c185a3",
   "metadata": {},
   "outputs": [],
   "source": [
    "y_scores = model.predict_proba(X_test_os)[:, 1]\n",
    "precisions, recalls, thresholds = precision_recall_curve(y_test_os, y_scores, pos_label=1)"
   ]
  },
  {
   "cell_type": "code",
   "execution_count": 31,
   "id": "735cbcd0",
   "metadata": {},
   "outputs": [
    {
     "data": {
      "image/png": "[encoded data removed]",
      "text/plain": [
       "<Figure size 432x288 with 1 Axes>"
      ]
     },
     "metadata": {
      "needs_background": "light"
     },
     "output_type": "display_data"
    }
   ],
   "source": [
    "plot_precision_recall_vs_threshold(precisions, recalls, thresholds)\n",
    "plt.show()"
   ]
  },
  {
   "cell_type": "code",
   "execution_count": 32,
   "id": "7d216c6f",
   "metadata": {},
   "outputs": [
    {
     "data": {
      "text/plain": [
       "array([0.00471235, 0.00471309, 0.00471341, ..., 0.87738352, 0.92893804,\n",
       "       0.94029174])"
      ]
     },
     "execution_count": 32,
     "metadata": {},
     "output_type": "execute_result"
    }
   ],
   "source": [
    "thresholds"
   ]
  },
  {
   "cell_type": "code",
   "execution_count": 33,
   "id": "ab028d31",
   "metadata": {},
   "outputs": [],
   "source": [
    "threshold = .6"
   ]
  },
  {
   "cell_type": "code",
   "execution_count": 34,
   "id": "2dc6edfc",
   "metadata": {},
   "outputs": [
    {
     "data": {
      "text/plain": [
       "0.8538428784330424"
      ]
     },
     "execution_count": 34,
     "metadata": {},
     "output_type": "execute_result"
    }
   ],
   "source": [
    "y_pred_60 = y_scores > threshold\n",
    "precision_score(y_pred_60, y_test_os, pos_label=1)"
   ]
  },
  {
   "cell_type": "code",
   "execution_count": 35,
   "id": "2f527247",
   "metadata": {},
   "outputs": [
    {
     "data": {
      "text/plain": [
       "0.306121670101519"
      ]
     },
     "execution_count": 35,
     "metadata": {},
     "output_type": "execute_result"
    }
   ],
   "source": [
    "recall_score(y_pred_60, y_test_os, pos_label=1)"
   ]
  },
  {
   "cell_type": "code",
   "execution_count": 36,
   "id": "bc0bdf7e",
   "metadata": {},
   "outputs": [],
   "source": [
    "y_pred = y_pred_60.astype(np.int32)"
   ]
  },
  {
   "cell_type": "markdown",
   "id": "7540e20e",
   "metadata": {},
   "source": [
    "This model has a precision score of 85% and recall score of 31%"
   ]
  },
  {
   "cell_type": "markdown",
   "id": "b14a90b4",
   "metadata": {},
   "source": [
    "## Model Building and Saving"
   ]
  },
  {
   "cell_type": "code",
   "execution_count": 37,
   "id": "6b5d6258",
   "metadata": {},
   "outputs": [],
   "source": [
    "# model instantiation\n",
    "model = pickle.load(open('../models/gradient_boost.pkl', 'rb'))"
   ]
  },
  {
   "cell_type": "code",
   "execution_count": 38,
   "id": "d33fd16a",
   "metadata": {},
   "outputs": [
    {
     "data": {
      "text/plain": [
       "GradientBoostingClassifier(learning_rate=0.09184489795918369, max_depth=10,\n",
       "                           max_features='sqrt', min_samples_split=20000,\n",
       "                           n_estimators=60, random_state=10, subsample=0.8)"
      ]
     },
     "execution_count": 38,
     "metadata": {},
     "output_type": "execute_result"
    }
   ],
   "source": [
    "model.fit(X_train_os, y_train_os)"
   ]
  },
  {
   "cell_type": "code",
   "execution_count": 39,
   "id": "dde157ac",
   "metadata": {},
   "outputs": [],
   "source": [
    "pickle.dump(model, open('../models/gradient_boost.pkl', 'wb'))"
   ]
  },
  {
   "cell_type": "code",
   "execution_count": 40,
   "id": "428710ff",
   "metadata": {},
   "outputs": [],
   "source": [
    "data = model_pipeline.load_data('../Data/train.csv')\n",
    "pred, proba, full_pipeline = model_pipeline.run_pipeline(data, model)\n",
    "pickle.dump(full_pipeline, open('../models/pipeline.pkl', 'wb'))"
   ]
  },
  {
   "cell_type": "code",
   "execution_count": 42,
   "id": "114c0b2b",
   "metadata": {
    "scrolled": true
   },
   "outputs": [
    {
     "data": {
      "text/html": [
       "<div>\n",
       "<style scoped>\n",
       "    .dataframe tbody tr th:only-of-type {\n",
       "        vertical-align: middle;\n",
       "    }\n",
       "\n",
       "    .dataframe tbody tr th {\n",
       "        vertical-align: top;\n",
       "    }\n",
       "\n",
       "    .dataframe thead th {\n",
       "        text-align: right;\n",
       "    }\n",
       "</style>\n",
       "<table border=\"1\" class=\"dataframe\">\n",
       "  <thead>\n",
       "    <tr style=\"text-align: right;\">\n",
       "      <th></th>\n",
       "      <th>id</th>\n",
       "      <th>Gender</th>\n",
       "      <th>Age</th>\n",
       "      <th>Driving_License</th>\n",
       "      <th>Region_Code</th>\n",
       "      <th>Previously_Insured</th>\n",
       "      <th>Vehicle_Age</th>\n",
       "      <th>Vehicle_Damage</th>\n",
       "      <th>Annual_Premium</th>\n",
       "      <th>Policy_Sales_Channel</th>\n",
       "      <th>Vintage</th>\n",
       "      <th>Prediction</th>\n",
       "    </tr>\n",
       "  </thead>\n",
       "  <tbody>\n",
       "    <tr>\n",
       "      <th>0</th>\n",
       "      <td>381110</td>\n",
       "      <td>Male</td>\n",
       "      <td>25</td>\n",
       "      <td>1</td>\n",
       "      <td>11.0</td>\n",
       "      <td>1</td>\n",
       "      <td>&lt; 1 Year</td>\n",
       "      <td>No</td>\n",
       "      <td>35786.0</td>\n",
       "      <td>152.0</td>\n",
       "      <td>53</td>\n",
       "      <td>0</td>\n",
       "    </tr>\n",
       "    <tr>\n",
       "      <th>1</th>\n",
       "      <td>381111</td>\n",
       "      <td>Male</td>\n",
       "      <td>40</td>\n",
       "      <td>1</td>\n",
       "      <td>28.0</td>\n",
       "      <td>0</td>\n",
       "      <td>1-2 Year</td>\n",
       "      <td>Yes</td>\n",
       "      <td>33762.0</td>\n",
       "      <td>7.0</td>\n",
       "      <td>111</td>\n",
       "      <td>0</td>\n",
       "    </tr>\n",
       "    <tr>\n",
       "      <th>2</th>\n",
       "      <td>381112</td>\n",
       "      <td>Male</td>\n",
       "      <td>47</td>\n",
       "      <td>1</td>\n",
       "      <td>28.0</td>\n",
       "      <td>0</td>\n",
       "      <td>1-2 Year</td>\n",
       "      <td>Yes</td>\n",
       "      <td>40050.0</td>\n",
       "      <td>124.0</td>\n",
       "      <td>199</td>\n",
       "      <td>0</td>\n",
       "    </tr>\n",
       "    <tr>\n",
       "      <th>3</th>\n",
       "      <td>381113</td>\n",
       "      <td>Male</td>\n",
       "      <td>24</td>\n",
       "      <td>1</td>\n",
       "      <td>27.0</td>\n",
       "      <td>1</td>\n",
       "      <td>&lt; 1 Year</td>\n",
       "      <td>Yes</td>\n",
       "      <td>37356.0</td>\n",
       "      <td>152.0</td>\n",
       "      <td>187</td>\n",
       "      <td>0</td>\n",
       "    </tr>\n",
       "    <tr>\n",
       "      <th>4</th>\n",
       "      <td>381114</td>\n",
       "      <td>Male</td>\n",
       "      <td>27</td>\n",
       "      <td>1</td>\n",
       "      <td>28.0</td>\n",
       "      <td>1</td>\n",
       "      <td>&lt; 1 Year</td>\n",
       "      <td>No</td>\n",
       "      <td>59097.0</td>\n",
       "      <td>152.0</td>\n",
       "      <td>297</td>\n",
       "      <td>1</td>\n",
       "    </tr>\n",
       "    <tr>\n",
       "      <th>...</th>\n",
       "      <td>...</td>\n",
       "      <td>...</td>\n",
       "      <td>...</td>\n",
       "      <td>...</td>\n",
       "      <td>...</td>\n",
       "      <td>...</td>\n",
       "      <td>...</td>\n",
       "      <td>...</td>\n",
       "      <td>...</td>\n",
       "      <td>...</td>\n",
       "      <td>...</td>\n",
       "      <td>...</td>\n",
       "    </tr>\n",
       "    <tr>\n",
       "      <th>127032</th>\n",
       "      <td>508142</td>\n",
       "      <td>Female</td>\n",
       "      <td>26</td>\n",
       "      <td>1</td>\n",
       "      <td>37.0</td>\n",
       "      <td>1</td>\n",
       "      <td>&lt; 1 Year</td>\n",
       "      <td>No</td>\n",
       "      <td>30867.0</td>\n",
       "      <td>152.0</td>\n",
       "      <td>56</td>\n",
       "      <td>0</td>\n",
       "    </tr>\n",
       "    <tr>\n",
       "      <th>127033</th>\n",
       "      <td>508143</td>\n",
       "      <td>Female</td>\n",
       "      <td>38</td>\n",
       "      <td>1</td>\n",
       "      <td>28.0</td>\n",
       "      <td>0</td>\n",
       "      <td>1-2 Year</td>\n",
       "      <td>Yes</td>\n",
       "      <td>28700.0</td>\n",
       "      <td>122.0</td>\n",
       "      <td>165</td>\n",
       "      <td>0</td>\n",
       "    </tr>\n",
       "    <tr>\n",
       "      <th>127034</th>\n",
       "      <td>508144</td>\n",
       "      <td>Male</td>\n",
       "      <td>21</td>\n",
       "      <td>1</td>\n",
       "      <td>46.0</td>\n",
       "      <td>1</td>\n",
       "      <td>&lt; 1 Year</td>\n",
       "      <td>No</td>\n",
       "      <td>29802.0</td>\n",
       "      <td>152.0</td>\n",
       "      <td>74</td>\n",
       "      <td>0</td>\n",
       "    </tr>\n",
       "    <tr>\n",
       "      <th>127035</th>\n",
       "      <td>508145</td>\n",
       "      <td>Male</td>\n",
       "      <td>71</td>\n",
       "      <td>1</td>\n",
       "      <td>28.0</td>\n",
       "      <td>1</td>\n",
       "      <td>1-2 Year</td>\n",
       "      <td>No</td>\n",
       "      <td>62875.0</td>\n",
       "      <td>26.0</td>\n",
       "      <td>265</td>\n",
       "      <td>1</td>\n",
       "    </tr>\n",
       "    <tr>\n",
       "      <th>127036</th>\n",
       "      <td>508146</td>\n",
       "      <td>Male</td>\n",
       "      <td>41</td>\n",
       "      <td>1</td>\n",
       "      <td>29.0</td>\n",
       "      <td>1</td>\n",
       "      <td>1-2 Year</td>\n",
       "      <td>No</td>\n",
       "      <td>27927.0</td>\n",
       "      <td>124.0</td>\n",
       "      <td>231</td>\n",
       "      <td>0</td>\n",
       "    </tr>\n",
       "  </tbody>\n",
       "</table>\n",
       "<p>127037 rows × 12 columns</p>\n",
       "</div>"
      ],
      "text/plain": [
       "            id  Gender  Age  Driving_License  Region_Code  Previously_Insured  \\\n",
       "0       381110    Male   25                1         11.0                   1   \n",
       "1       381111    Male   40                1         28.0                   0   \n",
       "2       381112    Male   47                1         28.0                   0   \n",
       "3       381113    Male   24                1         27.0                   1   \n",
       "4       381114    Male   27                1         28.0                   1   \n",
       "...        ...     ...  ...              ...          ...                 ...   \n",
       "127032  508142  Female   26                1         37.0                   1   \n",
       "127033  508143  Female   38                1         28.0                   0   \n",
       "127034  508144    Male   21                1         46.0                   1   \n",
       "127035  508145    Male   71                1         28.0                   1   \n",
       "127036  508146    Male   41                1         29.0                   1   \n",
       "\n",
       "       Vehicle_Age Vehicle_Damage  Annual_Premium  Policy_Sales_Channel  \\\n",
       "0         < 1 Year             No         35786.0                 152.0   \n",
       "1         1-2 Year            Yes         33762.0                   7.0   \n",
       "2         1-2 Year            Yes         40050.0                 124.0   \n",
       "3         < 1 Year            Yes         37356.0                 152.0   \n",
       "4         < 1 Year             No         59097.0                 152.0   \n",
       "...            ...            ...             ...                   ...   \n",
       "127032    < 1 Year             No         30867.0                 152.0   \n",
       "127033    1-2 Year            Yes         28700.0                 122.0   \n",
       "127034    < 1 Year             No         29802.0                 152.0   \n",
       "127035    1-2 Year             No         62875.0                  26.0   \n",
       "127036    1-2 Year             No         27927.0                 124.0   \n",
       "\n",
       "        Vintage  Prediction  \n",
       "0            53           0  \n",
       "1           111           0  \n",
       "2           199           0  \n",
       "3           187           0  \n",
       "4           297           1  \n",
       "...         ...         ...  \n",
       "127032       56           0  \n",
       "127033      165           0  \n",
       "127034       74           0  \n",
       "127035      265           1  \n",
       "127036      231           0  \n",
       "\n",
       "[127037 rows x 12 columns]"
      ]
     },
     "execution_count": 42,
     "metadata": {},
     "output_type": "execute_result"
    }
   ],
   "source": [
    "model = model_pipeline.load_model('../models/gradient_boost.pkl')\n",
    "pipeline = model_pipeline.load_pipeline('../models/pipeline.pkl')\n",
    "data = model_pipeline.load_data('../Data/test.csv')\n",
    "pred, proba, full_pipeline = model_pipeline.run_pipeline(data, model, pipeline)\n",
    "\n",
    "data = pd.read_csv('../Data/test.csv')\n",
    "data['Prediction'] = pred\n",
    "data"
   ]
  }
 ],
 "metadata": {
  "interpreter": {
   "hash": "7fab1ea2a0b14d60b0052063bd6fd333d7ec4a480acf6a61dd01afe4a8b189d0"
  },
  "kernelspec": {
   "display_name": "Python 3 (ipykernel)",
   "language": "python",
   "name": "python3"
  },
  "language_info": {
   "codemirror_mode": {
    "name": "ipython",
    "version": 3
   },
   "file_extension": ".py",
   "mimetype": "text/x-python",
   "name": "python",
   "nbconvert_exporter": "python",
   "pygments_lexer": "ipython3",
   "version": "3.8.3"
  }
 },
 "nbformat": 4,
 "nbformat_minor": 5
}
