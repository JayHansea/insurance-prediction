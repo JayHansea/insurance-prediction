{
 "cells": [
  {
   "cell_type": "markdown",
   "id": "190c1dd8",
   "metadata": {},
   "source": [
    "# Training and Testing Model Predictions"
   ]
  },
  {
   "cell_type": "code",
   "execution_count": 1,
   "id": "43b493cb",
   "metadata": {},
   "outputs": [],
   "source": [
    "#importing packages\n",
    "\n",
    "import sys, os\n",
    "import pickle\n",
    "import numpy as np\n",
    "import pandas as pd\n",
    "import matplotlib.pyplot as plt\n",
    "\n",
    "from sklearn.naive_bayes import GaussianNB\n",
    "from sklearn.tree import DecisionTreeClassifier\n",
    "from sklearn.ensemble import RandomForestClassifier\n",
    "from sklearn.ensemble import GradientBoostingClassifier\n",
    "from sklearn.ensemble import AdaBoostClassifier\n",
    "\n",
    "from sklearn.model_selection import cross_val_score\n",
    "from sklearn.metrics import matthews_corrcoef\n",
    "from sklearn.metrics import make_scorer\n",
    "from sklearn.metrics import plot_confusion_matrix\n",
    "from sklearn.metrics import precision_score, recall_score, f1_score\n",
    "from sklearn.metrics import precision_recall_curve\n",
    "\n",
    "from sklearn.model_selection import GridSearchCV, RandomizedSearchCV\n",
    "\n",
    "sys.path.append(os.path.abspath(os.path.join('..', 'utils')))\n",
    "from utility import evaluate_cat_models, plot_precision_recall_vs_threshold\n",
    "import model_pipeline\n",
    "\n",
    "import warnings\n",
    "warnings.filterwarnings('ignore')"
   ]
  },
  {
   "cell_type": "code",
   "execution_count": 2,
   "id": "52dd80b8",
   "metadata": {},
   "outputs": [],
   "source": [
    "# initialize models\n",
    "\n",
    "gnb = GaussianNB()\n",
    "tree = DecisionTreeClassifier()\n",
    "forest = RandomForestClassifier()\n",
    "gradient_boost = GradientBoostingClassifier()\n",
    "ada_boost = AdaBoostClassifier()\n"
   ]
  },
  {
   "cell_type": "markdown",
   "id": "7d1f6e3a",
   "metadata": {},
   "source": [
    "### Oversampling model"
   ]
  },
  {
   "cell_type": "code",
   "execution_count": 3,
   "id": "7ef6e401",
   "metadata": {},
   "outputs": [
    {
     "data": {
      "text/html": [
       "<div>\n",
       "<style scoped>\n",
       "    .dataframe tbody tr th:only-of-type {\n",
       "        vertical-align: middle;\n",
       "    }\n",
       "\n",
       "    .dataframe tbody tr th {\n",
       "        vertical-align: top;\n",
       "    }\n",
       "\n",
       "    .dataframe thead th {\n",
       "        text-align: right;\n",
       "    }\n",
       "</style>\n",
       "<table border=\"1\" class=\"dataframe\">\n",
       "  <thead>\n",
       "    <tr style=\"text-align: right;\">\n",
       "      <th></th>\n",
       "      <th>Gender</th>\n",
       "      <th>Age</th>\n",
       "      <th>Driving_License</th>\n",
       "      <th>Region_Code</th>\n",
       "      <th>Previously_Insured</th>\n",
       "      <th>Vehicle_Age</th>\n",
       "      <th>Vehicle_Damage</th>\n",
       "      <th>Annual_Premium</th>\n",
       "      <th>Policy_Sales_Channel</th>\n",
       "      <th>Vintage</th>\n",
       "      <th>Response</th>\n",
       "    </tr>\n",
       "  </thead>\n",
       "  <tbody>\n",
       "    <tr>\n",
       "      <th>0</th>\n",
       "      <td>1</td>\n",
       "      <td>0.358453</td>\n",
       "      <td>1</td>\n",
       "      <td>0.113858</td>\n",
       "      <td>1</td>\n",
       "      <td>0</td>\n",
       "      <td>0</td>\n",
       "      <td>1.559160</td>\n",
       "      <td>0.370856</td>\n",
       "      <td>-1.364158</td>\n",
       "      <td>0</td>\n",
       "    </tr>\n",
       "    <tr>\n",
       "      <th>1</th>\n",
       "      <td>1</td>\n",
       "      <td>-0.268326</td>\n",
       "      <td>1</td>\n",
       "      <td>1.698224</td>\n",
       "      <td>0</td>\n",
       "      <td>0</td>\n",
       "      <td>1</td>\n",
       "      <td>-1.592367</td>\n",
       "      <td>0.370856</td>\n",
       "      <td>-0.647879</td>\n",
       "      <td>0</td>\n",
       "    </tr>\n",
       "    <tr>\n",
       "      <th>2</th>\n",
       "      <td>1</td>\n",
       "      <td>0.288811</td>\n",
       "      <td>1</td>\n",
       "      <td>-0.203015</td>\n",
       "      <td>0</td>\n",
       "      <td>0</td>\n",
       "      <td>1</td>\n",
       "      <td>0.181121</td>\n",
       "      <td>-1.381341</td>\n",
       "      <td>-0.062918</td>\n",
       "      <td>0</td>\n",
       "    </tr>\n",
       "    <tr>\n",
       "      <th>3</th>\n",
       "      <td>0</td>\n",
       "      <td>0.288811</td>\n",
       "      <td>1</td>\n",
       "      <td>-0.678324</td>\n",
       "      <td>0</td>\n",
       "      <td>2</td>\n",
       "      <td>1</td>\n",
       "      <td>0.189704</td>\n",
       "      <td>-1.381341</td>\n",
       "      <td>-0.098731</td>\n",
       "      <td>1</td>\n",
       "    </tr>\n",
       "    <tr>\n",
       "      <th>4</th>\n",
       "      <td>1</td>\n",
       "      <td>0.079884</td>\n",
       "      <td>1</td>\n",
       "      <td>0.113858</td>\n",
       "      <td>0</td>\n",
       "      <td>0</td>\n",
       "      <td>1</td>\n",
       "      <td>0.381285</td>\n",
       "      <td>0.370856</td>\n",
       "      <td>-0.588189</td>\n",
       "      <td>0</td>\n",
       "    </tr>\n",
       "  </tbody>\n",
       "</table>\n",
       "</div>"
      ],
      "text/plain": [
       "   Gender       Age  Driving_License  Region_Code  Previously_Insured  \\\n",
       "0       1  0.358453                1     0.113858                   1   \n",
       "1       1 -0.268326                1     1.698224                   0   \n",
       "2       1  0.288811                1    -0.203015                   0   \n",
       "3       0  0.288811                1    -0.678324                   0   \n",
       "4       1  0.079884                1     0.113858                   0   \n",
       "\n",
       "   Vehicle_Age  Vehicle_Damage  Annual_Premium  Policy_Sales_Channel  \\\n",
       "0            0               0        1.559160              0.370856   \n",
       "1            0               1       -1.592367              0.370856   \n",
       "2            0               1        0.181121             -1.381341   \n",
       "3            2               1        0.189704             -1.381341   \n",
       "4            0               1        0.381285              0.370856   \n",
       "\n",
       "    Vintage  Response  \n",
       "0 -1.364158         0  \n",
       "1 -0.647879         0  \n",
       "2 -0.062918         0  \n",
       "3 -0.098731         1  \n",
       "4 -0.588189         0  "
      ]
     },
     "execution_count": 3,
     "metadata": {},
     "output_type": "execute_result"
    }
   ],
   "source": [
    "#importing datasets\n",
    "train_set_os = pd.read_csv('../Data/ProcessedData/train_set_os.csv')\n",
    "test_set_os = pd.read_csv('../Data/ProcessedData/test_set_os.csv')\n",
    "train_set_os.head()"
   ]
  },
  {
   "cell_type": "code",
   "execution_count": 4,
   "id": "30c188b1",
   "metadata": {},
   "outputs": [],
   "source": [
    "X_train_os = train_set_os.drop('Response', axis=1)\n",
    "y_train_os = train_set_os['Response']\n",
    "X_test_os = test_set_os.drop('Response', axis=1)\n",
    "y_test_os = test_set_os['Response']"
   ]
  },
  {
   "cell_type": "code",
   "execution_count": null,
   "id": "05892a46",
   "metadata": {},
   "outputs": [
    {
     "name": "stdout",
     "output_type": "stream",
     "text": [
      "Fitting DecisionTreeClassifier()\n",
      "Done with fitting....\n",
      "DecisionTreeClassifier() cross validation\n",
      "Done with cross validation\n",
      "\n",
      "\n",
      "Fitting GaussianNB()\n",
      "Done with fitting....\n",
      "GaussianNB() cross validation\n",
      "Done with cross validation\n",
      "\n",
      "\n",
      "Fitting RandomForestClassifier()\n",
      "Done with fitting....\n",
      "RandomForestClassifier() cross validation\n"
     ]
    }
   ],
   "source": [
    "model_list = [tree, gnb, forest, gradient_boost, ada_boost]\n",
    "\n",
    "evaluate_cat_models(model_list, X_train_os, X_test_os, y_train_os, y_test_os, cv=5)"
   ]
  },
  {
   "cell_type": "markdown",
   "id": "9dc2552f",
   "metadata": {},
   "source": [
    "### Undersampling"
   ]
  },
  {
   "cell_type": "code",
   "execution_count": null,
   "id": "10d1b4f0",
   "metadata": {},
   "outputs": [],
   "source": [
    "#importing datasets\n",
    "train_set_us = pd.read_csv('../Data/ProcessedData/train_set_us.csv')\n",
    "test_set_us = pd.read_csv('../Data/ProcessedData/test_set_us.csv')\n",
    "train_set_us.head()"
   ]
  },
  {
   "cell_type": "code",
   "execution_count": null,
   "id": "fcdaef10",
   "metadata": {},
   "outputs": [],
   "source": [
    "X_train_us = train_set_us.drop('Response', axis=1)\n",
    "y_train_us = train_set_us['Response']\n",
    "X_test_us = test_set_us.drop('Response', axis=1)\n",
    "y_test_us = test_set_us['Response']"
   ]
  },
  {
   "cell_type": "code",
   "execution_count": null,
   "id": "d24e88c4",
   "metadata": {},
   "outputs": [],
   "source": [
    "model_list = [tree, gnb, forest, gradient_boost, ada_boost]\n",
    "\n",
    "evaluate_cat_models(model_list, X_train_us, X_test_us, y_train_us, y_test_us, cv=5)"
   ]
  },
  {
   "cell_type": "markdown",
   "id": "74076ca5",
   "metadata": {},
   "source": [
    "### Smote"
   ]
  },
  {
   "cell_type": "code",
   "execution_count": null,
   "id": "ef4d13a6",
   "metadata": {},
   "outputs": [],
   "source": [
    "#importing datasets\n",
    "train_set_sm = pd.read_csv('../Data/ProcessedData/train_set_sm.csv')\n",
    "test_set_sm = pd.read_csv('../Data/ProcessedData/test_set_sm.csv')\n",
    "train_set_sm.head()"
   ]
  },
  {
   "cell_type": "code",
   "execution_count": null,
   "id": "236772af",
   "metadata": {},
   "outputs": [],
   "source": [
    "X_train_sm = train_set_sm.drop('Response', axis=1)\n",
    "y_train_sm = train_set_sm['Response']\n",
    "X_test_sm = test_set_sm.drop('Response', axis=1)\n",
    "y_test_sm = test_set_sm['Response']"
   ]
  },
  {
   "cell_type": "code",
   "execution_count": null,
   "id": "93d03ce4",
   "metadata": {},
   "outputs": [],
   "source": [
    "model_list = [tree, gnb, forest, gradient_boost, ada_boost]\n",
    "\n",
    "evaluate_cat_models(model_list, X_train_sm, X_test_sm, y_train_sm, y_test_sm, cv=5)"
   ]
  },
  {
   "cell_type": "markdown",
   "id": "f8095054",
   "metadata": {},
   "source": [
    "## Hyperparameter tuning for Gradient Boosting Classifier"
   ]
  },
  {
   "cell_type": "markdown",
   "id": "e143b59c",
   "metadata": {},
   "source": [
    "Boosting is a sequential technique that works on the principle of ensemble. It combines a set of weak learners and delivers improved prediction accuracy.\n",
    "\n",
    "The parameters for gradient boosting classifier are broken down into three categories\n",
    "\n",
    "1. Tree-Specific Parameters: These affect each individual tree in the model\n",
    "2. Boosting Parameters: These affect the boosting operation in the model\n",
    "3. Miscellaneous Parameters: Other parameters for overall function\n",
    "\n",
    "**Tree-Specific Parameters**\n",
    "1. min_samples_split: \n",
    "    - Defines the minimum number of observations which is required in a node to be considered for spliting\n",
    "2. min_samples_leaf: \n",
    "    - Defines the minimum observations required in a terminal node or leaf\n",
    "3. min_weight_fraction_leaf\n",
    "    - Similar to min_samples_leaf but defined as fraction of the total number of observations instead of an integer\n",
    "4. max_depth\n",
    "    - The maximum depth of a tree\n",
    "5. max_leaf_nodes\n",
    "    - The maximum number of terminal nodes or leaves in a tree\n",
    "6. max_features\n",
    "    - The number of features to consider while searching for a best split\n",
    "\n",
    "\n",
    "**Boosting Paramters**\n",
    "1. learning_rate\n",
    "    - This determines the impact of each tree on the final outcome. \n",
    "2. n_estimators\n",
    "    - The number of sequential trees to be modeled\n",
    "3. subsample\n",
    "    - The fraction of observations to be selected for each tree. Values slightly less than 1 makes the model robust\n",
    "    \n",
    "    \n",
    "**Other Parameters**\n",
    "1. loss\n",
    "    - It refers to the loss function\n",
    "2. init\n",
    "    - This affects initialization of the output\n",
    "3. random_state\n",
    "    - The random number seed\n",
    "4. verbose\n",
    "    - The type of output to be printed when the model fits\n",
    "5. warm_start\n",
    "    - This parameter helps us fit additional trees on previous fit of a model\n",
    "6. presort\n",
    "    - Select whether to presort data for faster splits"
   ]
  },
  {
   "cell_type": "code",
   "execution_count": null,
   "id": "1b148f10",
   "metadata": {},
   "outputs": [],
   "source": [
    "columns = train_set_os.columns"
   ]
  },
  {
   "cell_type": "code",
   "execution_count": null,
   "id": "15e79c37",
   "metadata": {},
   "outputs": [],
   "source": [
    "def plot_feature_imp(feature_imp, columns):\n",
    "    plt.plot(columns, feature_imp, kind='bar')\n",
    "    plt.show()"
   ]
  },
  {
   "cell_type": "code",
   "execution_count": null,
   "id": "e1eb6369",
   "metadata": {},
   "outputs": [],
   "source": [
    "gradient_boost = GradientBoostingClassifier(n_estimators=60, max_features='sqrt',\n",
    "                                           subsample=.8, random_state=10)"
   ]
  },
  {
   "cell_type": "code",
   "execution_count": null,
   "id": "f8b8facb",
   "metadata": {},
   "outputs": [],
   "source": [
    "param_grid = {\n",
    "    'min_samples_split': range(20000, 26667, 200),\n",
    "    'max_depth': range(6, 16),\n",
    "    'learning_rate': np.linspace(0.0001, 0.1, 50)\n",
    "} \n",
    "rs = RandomizedSearchCV(gradient_boost, param_grid, cv=3, scoring=make_scorer(matthews_corrcoef), n_jobs=-1, n_iter=200, verbose=21)"
   ]
  },
  {
   "cell_type": "code",
   "execution_count": null,
   "id": "1f85376a",
   "metadata": {},
   "outputs": [],
   "source": [
    "rs.fit(X_train_os, y_train_os)"
   ]
  },
  {
   "cell_type": "code",
   "execution_count": null,
   "id": "34683032",
   "metadata": {},
   "outputs": [],
   "source": [
    "rs.best_estimator_"
   ]
  },
  {
   "cell_type": "code",
   "execution_count": null,
   "id": "38b115a7",
   "metadata": {},
   "outputs": [],
   "source": [
    "model = GradientBoostingClassifier()\n",
    "model.fit(X_train_os, y_train_os)\n",
    "pickle.dump(model, open('../models/gradient_boost.pkl', 'wb'))"
   ]
  },
  {
   "cell_type": "code",
   "execution_count": null,
   "id": "20494ef0",
   "metadata": {},
   "outputs": [],
   "source": [
    "pickle.dump(rs.best_estimator_, open('../models/gradient_boost.pkl', 'wb'))"
   ]
  },
  {
   "cell_type": "code",
   "execution_count": null,
   "id": "8018f981",
   "metadata": {},
   "outputs": [],
   "source": [
    "model = pickle.load(open('../models/gradient_boost.pkl', 'rb'))"
   ]
  },
  {
   "cell_type": "code",
   "execution_count": null,
   "id": "db26e077",
   "metadata": {},
   "outputs": [],
   "source": [
    "evaluate_cat_models([model], X_train_os, X_test_os, y_train_os, y_test_os, cv=5)"
   ]
  },
  {
   "cell_type": "markdown",
   "id": "d74b407b",
   "metadata": {},
   "source": [
    "## Model Interpretation"
   ]
  },
  {
   "cell_type": "markdown",
   "id": "9b898b05",
   "metadata": {},
   "source": [
    "- `Positive Class`: A policyholder is interested in vehicle insurance\n",
    "- `Negative Class`: A policyholder is not interested in vehicle insurance"
   ]
  },
  {
   "cell_type": "code",
   "execution_count": null,
   "id": "7cc1e7f8",
   "metadata": {},
   "outputs": [],
   "source": [
    "y_pred = model.predict(X_test_os)"
   ]
  },
  {
   "cell_type": "code",
   "execution_count": null,
   "id": "aafe5e0c",
   "metadata": {},
   "outputs": [],
   "source": [
    "fig, ax = plt.subplots(figsize=(12, 8))\n",
    "plot_confusion_matrix(model, X_test_os, y_test_os, ax=ax)\n",
    "fig.savefig('../DataAnalysisAndViz/plots/conf_mat.jpeg', dpi=82)\n",
    "plt.show()"
   ]
  },
  {
   "cell_type": "markdown",
   "id": "aa20743a",
   "metadata": {},
   "source": [
    "**Observation**\n",
    "1. The model predicts the positive class when it was actually the positive class 8682 times\n",
    "2. The model predicts the positive class when it was actually the negative class 21749 times \n",
    "3. The model predicts the negative class when it was actually the positive class 712 times \n",
    "4. The model predicts the negative class when it was actually the negative class 45079 times "
   ]
  },
  {
   "cell_type": "code",
   "execution_count": null,
   "id": "fead016f",
   "metadata": {},
   "outputs": [],
   "source": [
    "precision_score(y_test_os, y_pred, pos_label=1)"
   ]
  },
  {
   "cell_type": "code",
   "execution_count": null,
   "id": "153d8e40",
   "metadata": {},
   "outputs": [],
   "source": [
    "recall_score(y_test_os, y_pred, pos_label=1)"
   ]
  },
  {
   "cell_type": "code",
   "execution_count": null,
   "id": "b615d36b",
   "metadata": {},
   "outputs": [],
   "source": [
    "f1_score(y_test_os, y_pred, pos_label=1)"
   ]
  },
  {
   "cell_type": "markdown",
   "id": "69e70a8a",
   "metadata": {},
   "source": [
    "The `precision` is the proportion of true positives out of all detected positives or simply\n",
    "\n",
    "**TP / (TP + FP)**\n",
    "\n",
    "8682 / (8682 + 21749) = 0.285\n",
    "\n",
    "The `recall` is the number of true positives that are correctly classified or simply\n",
    "\n",
    "**TP / (TP + FN)**\n",
    "\n",
    "8682 / (8682 + 712) = 0.924\n",
    "\n",
    "Finally, the `f1 score` is the harmonic mean of precision and recall. This computes to 43%"
   ]
  },
  {
   "cell_type": "markdown",
   "id": "7f08f600",
   "metadata": {},
   "source": [
    "Precision and recall and by extension, f1 score are skewed one class, if we flip the positive class, we get a total new precision and recall (even f1 score)"
   ]
  },
  {
   "cell_type": "code",
   "execution_count": null,
   "id": "51ff35ca",
   "metadata": {},
   "outputs": [],
   "source": [
    "precision_score(y_test_os, y_pred, pos_label=0)"
   ]
  },
  {
   "cell_type": "code",
   "execution_count": null,
   "id": "ac5fa2c9",
   "metadata": {},
   "outputs": [],
   "source": [
    "recall_score(y_test_os, y_pred, pos_label=0)"
   ]
  },
  {
   "cell_type": "code",
   "execution_count": null,
   "id": "b3be1a61",
   "metadata": {},
   "outputs": [],
   "source": [
    "f1_score(y_test_os, y_pred, pos_label=0)"
   ]
  },
  {
   "cell_type": "markdown",
   "id": "42ae1673",
   "metadata": {},
   "source": [
    "This is because, the metrics does not take `True Negative` into accounts, in this case, our model does not care how it performs in detecting policy holders that are not interested in vehicle insurance"
   ]
  },
  {
   "cell_type": "markdown",
   "id": "d77bb157",
   "metadata": {},
   "source": [
    "In business context\n",
    "\n",
    "- If advertising vehicle insurance to health insurance policy holder would be very expensive, then we optimize the model for precision, because we want to be very sure that they would be interested\n",
    "- If advertising vehicle insurance to health insurance policy holder would not be very expensive, then we optimize the model for recall, because we want to advertise to everyone that would be interested.\n",
    "> A naive model would advertise to all policy holders\n",
    "\n",
    "In this context, we would optimize for precision"
   ]
  },
  {
   "cell_type": "code",
   "execution_count": null,
   "id": "00c185a3",
   "metadata": {},
   "outputs": [],
   "source": [
    "y_scores = model.predict_proba(X_test_os)[:, 1]\n",
    "precisions, recalls, thresholds = precision_recall_curve(y_test_os, y_scores, pos_label=1)"
   ]
  },
  {
   "cell_type": "code",
   "execution_count": null,
   "id": "735cbcd0",
   "metadata": {},
   "outputs": [],
   "source": [
    "plot_precision_recall_vs_threshold(precisions, recalls, thresholds)\n",
    "plt.show()"
   ]
  },
  {
   "cell_type": "code",
   "execution_count": null,
   "id": "7d216c6f",
   "metadata": {},
   "outputs": [],
   "source": [
    "thresholds"
   ]
  },
  {
   "cell_type": "code",
   "execution_count": null,
   "id": "ab028d31",
   "metadata": {},
   "outputs": [],
   "source": [
    "threshold = .6"
   ]
  },
  {
   "cell_type": "code",
   "execution_count": null,
   "id": "2dc6edfc",
   "metadata": {},
   "outputs": [],
   "source": [
    "y_pred_60 = y_scores > threshold\n",
    "precision_score(y_pred_60, y_test_os, pos_label=1)"
   ]
  },
  {
   "cell_type": "code",
   "execution_count": null,
   "id": "2f527247",
   "metadata": {},
   "outputs": [],
   "source": [
    "recall_score(y_pred_60, y_test_os, pos_label=1)"
   ]
  },
  {
   "cell_type": "code",
   "execution_count": null,
   "id": "bc0bdf7e",
   "metadata": {},
   "outputs": [],
   "source": [
    "y_pred = y_pred_60.astype(np.int32)"
   ]
  },
  {
   "cell_type": "markdown",
   "id": "7540e20e",
   "metadata": {},
   "source": [
    "This model has a precision score of 84% and recall score of 30%"
   ]
  },
  {
   "cell_type": "markdown",
   "id": "b14a90b4",
   "metadata": {},
   "source": [
    "## Model Building and Saving"
   ]
  },
  {
   "cell_type": "code",
   "execution_count": null,
   "id": "6b5d6258",
   "metadata": {},
   "outputs": [],
   "source": [
    "# model instantiation\n",
    "model = pickle.load(open('../models/gradient_boost.pkl', 'rb'))"
   ]
  },
  {
   "cell_type": "code",
   "execution_count": null,
   "id": "d33fd16a",
   "metadata": {},
   "outputs": [],
   "source": [
    "model.fit(X_train_os, y_train_os)"
   ]
  },
  {
   "cell_type": "code",
   "execution_count": null,
   "id": "dde157ac",
   "metadata": {},
   "outputs": [],
   "source": [
    "pickle.dump(model, open('../models/gradient_boost.pkl', 'wb'))"
   ]
  },
  {
   "cell_type": "code",
   "execution_count": null,
   "id": "428710ff",
   "metadata": {},
   "outputs": [],
   "source": [
    "data = model_pipeline.load_data('../Data/train.csv')\n",
    "pred, proba, full_pipeline = model_pipeline.run_pipeline(data, model)\n",
    "pickle.dump(full_pipeline, open('../models/pipeline.pkl', 'wb'))"
   ]
  },
  {
   "cell_type": "code",
   "execution_count": null,
   "id": "114c0b2b",
   "metadata": {
    "scrolled": true
   },
   "outputs": [],
   "source": [
    "model = model_pipeline.load_model('../models/gradient_boost.pkl')\n",
    "data = model_pipeline.load_data('../Data/test.csv')\n",
    "pred, proba, full_pipeline = model_pipeline.run_pipeline(data, model, '../models/pipeline.pkl')\n",
    "\n",
    "data = pd.read_csv('../Data/test.csv')\n",
    "data['Prediction'] = pred\n",
    "data"
   ]
  }
 ],
 "metadata": {
  "interpreter": {
   "hash": "7fab1ea2a0b14d60b0052063bd6fd333d7ec4a480acf6a61dd01afe4a8b189d0"
  },
  "kernelspec": {
   "display_name": "Python 3 (ipykernel)",
   "language": "python",
   "name": "python3"
  },
  "language_info": {
   "codemirror_mode": {
    "name": "ipython",
    "version": 3
   },
   "file_extension": ".py",
   "mimetype": "text/x-python",
   "name": "python",
   "nbconvert_exporter": "python",
   "pygments_lexer": "ipython3",
   "version": "3.8.3"
  }
 },
 "nbformat": 4,
 "nbformat_minor": 5
}
