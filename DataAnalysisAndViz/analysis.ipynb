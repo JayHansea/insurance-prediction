{
 "cells": [
  {
   "cell_type": "markdown",
   "id": "f235a4b5",
   "metadata": {},
   "source": [
    "# Data Analysis and Visualization\n",
    "\n",
    "This phase aims to analyze and visualize the data to provide meaningful insights.\n",
    "\n",
    "### Objectives\n",
    "1. Perform basic analysis\n",
    "2. Perform exploratory data analysis\n",
    "3. Perform classical analysis\n",
    "4. Perform regression analysis"
   ]
  },
  {
   "cell_type": "code",
   "execution_count": 1,
   "id": "a4270951",
   "metadata": {},
   "outputs": [],
   "source": [
    "# necessary libraries\n",
    "import numpy as np\n",
    "import pandas as pd\n",
    "import matplotlib.pyplot as plt\n",
    "import seaborn as sns"
   ]
  },
  {
   "cell_type": "code",
   "execution_count": 2,
   "id": "b5cae98e",
   "metadata": {
    "scrolled": true
   },
   "outputs": [
    {
     "name": "stdout",
     "output_type": "stream",
     "text": [
      "Requirement already satisfied: squarify in c:\\users\\samie\\appdata\\local\\programs\\python\\python37-32\\lib\\site-packages (0.4.3)\n"
     ]
    }
   ],
   "source": [
    "!pip install squarify"
   ]
  },
  {
   "cell_type": "code",
   "execution_count": 3,
   "id": "b85bebe0",
   "metadata": {},
   "outputs": [],
   "source": [
    "import squarify"
   ]
  },
  {
   "cell_type": "code",
   "execution_count": 4,
   "id": "f4994fbf",
   "metadata": {},
   "outputs": [
    {
     "data": {
      "text/plain": [
       "(381109, 12)"
      ]
     },
     "execution_count": 4,
     "metadata": {},
     "output_type": "execute_result"
    }
   ],
   "source": [
    "data = pd.read_csv('../Data/train.csv')\n",
    "data.shape"
   ]
  },
  {
   "cell_type": "markdown",
   "id": "dd556109",
   "metadata": {},
   "source": [
    "The data contains `381109` rows and `12` columns"
   ]
  },
  {
   "cell_type": "code",
   "execution_count": 5,
   "id": "8e0e7ef1",
   "metadata": {},
   "outputs": [
    {
     "data": {
      "text/html": [
       "<div>\n",
       "<style scoped>\n",
       "    .dataframe tbody tr th:only-of-type {\n",
       "        vertical-align: middle;\n",
       "    }\n",
       "\n",
       "    .dataframe tbody tr th {\n",
       "        vertical-align: top;\n",
       "    }\n",
       "\n",
       "    .dataframe thead th {\n",
       "        text-align: right;\n",
       "    }\n",
       "</style>\n",
       "<table border=\"1\" class=\"dataframe\">\n",
       "  <thead>\n",
       "    <tr style=\"text-align: right;\">\n",
       "      <th></th>\n",
       "      <th>id</th>\n",
       "      <th>Gender</th>\n",
       "      <th>Age</th>\n",
       "      <th>Driving_License</th>\n",
       "      <th>Region_Code</th>\n",
       "      <th>Previously_Insured</th>\n",
       "      <th>Vehicle_Age</th>\n",
       "      <th>Vehicle_Damage</th>\n",
       "      <th>Annual_Premium</th>\n",
       "      <th>Policy_Sales_Channel</th>\n",
       "      <th>Vintage</th>\n",
       "      <th>Response</th>\n",
       "    </tr>\n",
       "  </thead>\n",
       "  <tbody>\n",
       "    <tr>\n",
       "      <th>0</th>\n",
       "      <td>1</td>\n",
       "      <td>Male</td>\n",
       "      <td>44</td>\n",
       "      <td>1</td>\n",
       "      <td>28.0</td>\n",
       "      <td>0</td>\n",
       "      <td>&gt; 2 Years</td>\n",
       "      <td>Yes</td>\n",
       "      <td>40454.0</td>\n",
       "      <td>26.0</td>\n",
       "      <td>217</td>\n",
       "      <td>1</td>\n",
       "    </tr>\n",
       "    <tr>\n",
       "      <th>1</th>\n",
       "      <td>2</td>\n",
       "      <td>Male</td>\n",
       "      <td>76</td>\n",
       "      <td>1</td>\n",
       "      <td>3.0</td>\n",
       "      <td>0</td>\n",
       "      <td>1-2 Year</td>\n",
       "      <td>No</td>\n",
       "      <td>33536.0</td>\n",
       "      <td>26.0</td>\n",
       "      <td>183</td>\n",
       "      <td>0</td>\n",
       "    </tr>\n",
       "    <tr>\n",
       "      <th>2</th>\n",
       "      <td>3</td>\n",
       "      <td>Male</td>\n",
       "      <td>47</td>\n",
       "      <td>1</td>\n",
       "      <td>28.0</td>\n",
       "      <td>0</td>\n",
       "      <td>&gt; 2 Years</td>\n",
       "      <td>Yes</td>\n",
       "      <td>38294.0</td>\n",
       "      <td>26.0</td>\n",
       "      <td>27</td>\n",
       "      <td>1</td>\n",
       "    </tr>\n",
       "    <tr>\n",
       "      <th>3</th>\n",
       "      <td>4</td>\n",
       "      <td>Male</td>\n",
       "      <td>21</td>\n",
       "      <td>1</td>\n",
       "      <td>11.0</td>\n",
       "      <td>1</td>\n",
       "      <td>&lt; 1 Year</td>\n",
       "      <td>No</td>\n",
       "      <td>28619.0</td>\n",
       "      <td>152.0</td>\n",
       "      <td>203</td>\n",
       "      <td>0</td>\n",
       "    </tr>\n",
       "    <tr>\n",
       "      <th>4</th>\n",
       "      <td>5</td>\n",
       "      <td>Female</td>\n",
       "      <td>29</td>\n",
       "      <td>1</td>\n",
       "      <td>41.0</td>\n",
       "      <td>1</td>\n",
       "      <td>&lt; 1 Year</td>\n",
       "      <td>No</td>\n",
       "      <td>27496.0</td>\n",
       "      <td>152.0</td>\n",
       "      <td>39</td>\n",
       "      <td>0</td>\n",
       "    </tr>\n",
       "  </tbody>\n",
       "</table>\n",
       "</div>"
      ],
      "text/plain": [
       "   id  Gender  Age  Driving_License  Region_Code  Previously_Insured  \\\n",
       "0   1    Male   44                1         28.0                   0   \n",
       "1   2    Male   76                1          3.0                   0   \n",
       "2   3    Male   47                1         28.0                   0   \n",
       "3   4    Male   21                1         11.0                   1   \n",
       "4   5  Female   29                1         41.0                   1   \n",
       "\n",
       "  Vehicle_Age Vehicle_Damage  Annual_Premium  Policy_Sales_Channel  Vintage  \\\n",
       "0   > 2 Years            Yes         40454.0                  26.0      217   \n",
       "1    1-2 Year             No         33536.0                  26.0      183   \n",
       "2   > 2 Years            Yes         38294.0                  26.0       27   \n",
       "3    < 1 Year             No         28619.0                 152.0      203   \n",
       "4    < 1 Year             No         27496.0                 152.0       39   \n",
       "\n",
       "   Response  \n",
       "0         1  \n",
       "1         0  \n",
       "2         1  \n",
       "3         0  \n",
       "4         0  "
      ]
     },
     "execution_count": 5,
     "metadata": {},
     "output_type": "execute_result"
    }
   ],
   "source": [
    "data.head()"
   ]
  },
  {
   "cell_type": "code",
   "execution_count": 6,
   "id": "d9d2e8d3",
   "metadata": {
    "scrolled": true
   },
   "outputs": [
    {
     "name": "stdout",
     "output_type": "stream",
     "text": [
      "<class 'pandas.core.frame.DataFrame'>\n",
      "RangeIndex: 381109 entries, 0 to 381108\n",
      "Data columns (total 12 columns):\n",
      " #   Column                Non-Null Count   Dtype  \n",
      "---  ------                --------------   -----  \n",
      " 0   id                    381109 non-null  int64  \n",
      " 1   Gender                381109 non-null  object \n",
      " 2   Age                   381109 non-null  int64  \n",
      " 3   Driving_License       381109 non-null  int64  \n",
      " 4   Region_Code           381109 non-null  float64\n",
      " 5   Previously_Insured    381109 non-null  int64  \n",
      " 6   Vehicle_Age           381109 non-null  object \n",
      " 7   Vehicle_Damage        381109 non-null  object \n",
      " 8   Annual_Premium        381109 non-null  float64\n",
      " 9   Policy_Sales_Channel  381109 non-null  float64\n",
      " 10  Vintage               381109 non-null  int64  \n",
      " 11  Response              381109 non-null  int64  \n",
      "dtypes: float64(3), int64(6), object(3)\n",
      "memory usage: 30.5+ MB\n"
     ]
    }
   ],
   "source": [
    "data.info()"
   ]
  },
  {
   "cell_type": "markdown",
   "id": "ed2a3302",
   "metadata": {},
   "source": [
    "**Observations**\n",
    "\n",
    "- There are no missing values in the dataset"
   ]
  },
  {
   "cell_type": "code",
   "execution_count": 7,
   "id": "476242a5",
   "metadata": {},
   "outputs": [
    {
     "data": {
      "text/html": [
       "<div>\n",
       "<style scoped>\n",
       "    .dataframe tbody tr th:only-of-type {\n",
       "        vertical-align: middle;\n",
       "    }\n",
       "\n",
       "    .dataframe tbody tr th {\n",
       "        vertical-align: top;\n",
       "    }\n",
       "\n",
       "    .dataframe thead th {\n",
       "        text-align: right;\n",
       "    }\n",
       "</style>\n",
       "<table border=\"1\" class=\"dataframe\">\n",
       "  <thead>\n",
       "    <tr style=\"text-align: right;\">\n",
       "      <th></th>\n",
       "      <th>id</th>\n",
       "      <th>Age</th>\n",
       "      <th>Driving_License</th>\n",
       "      <th>Region_Code</th>\n",
       "      <th>Previously_Insured</th>\n",
       "      <th>Annual_Premium</th>\n",
       "      <th>Policy_Sales_Channel</th>\n",
       "      <th>Vintage</th>\n",
       "      <th>Response</th>\n",
       "    </tr>\n",
       "  </thead>\n",
       "  <tbody>\n",
       "    <tr>\n",
       "      <th>count</th>\n",
       "      <td>381109.000000</td>\n",
       "      <td>381109.000000</td>\n",
       "      <td>381109.000000</td>\n",
       "      <td>381109.000000</td>\n",
       "      <td>381109.000000</td>\n",
       "      <td>381109.000000</td>\n",
       "      <td>381109.000000</td>\n",
       "      <td>381109.000000</td>\n",
       "      <td>381109.000000</td>\n",
       "    </tr>\n",
       "    <tr>\n",
       "      <th>mean</th>\n",
       "      <td>190555.000000</td>\n",
       "      <td>38.822584</td>\n",
       "      <td>0.997869</td>\n",
       "      <td>26.388807</td>\n",
       "      <td>0.458210</td>\n",
       "      <td>30564.389581</td>\n",
       "      <td>112.034295</td>\n",
       "      <td>154.347397</td>\n",
       "      <td>0.122563</td>\n",
       "    </tr>\n",
       "    <tr>\n",
       "      <th>std</th>\n",
       "      <td>110016.836208</td>\n",
       "      <td>15.511611</td>\n",
       "      <td>0.046110</td>\n",
       "      <td>13.229888</td>\n",
       "      <td>0.498251</td>\n",
       "      <td>17213.155057</td>\n",
       "      <td>54.203995</td>\n",
       "      <td>83.671304</td>\n",
       "      <td>0.327936</td>\n",
       "    </tr>\n",
       "    <tr>\n",
       "      <th>min</th>\n",
       "      <td>1.000000</td>\n",
       "      <td>20.000000</td>\n",
       "      <td>0.000000</td>\n",
       "      <td>0.000000</td>\n",
       "      <td>0.000000</td>\n",
       "      <td>2630.000000</td>\n",
       "      <td>1.000000</td>\n",
       "      <td>10.000000</td>\n",
       "      <td>0.000000</td>\n",
       "    </tr>\n",
       "    <tr>\n",
       "      <th>25%</th>\n",
       "      <td>95278.000000</td>\n",
       "      <td>25.000000</td>\n",
       "      <td>1.000000</td>\n",
       "      <td>15.000000</td>\n",
       "      <td>0.000000</td>\n",
       "      <td>24405.000000</td>\n",
       "      <td>29.000000</td>\n",
       "      <td>82.000000</td>\n",
       "      <td>0.000000</td>\n",
       "    </tr>\n",
       "    <tr>\n",
       "      <th>50%</th>\n",
       "      <td>190555.000000</td>\n",
       "      <td>36.000000</td>\n",
       "      <td>1.000000</td>\n",
       "      <td>28.000000</td>\n",
       "      <td>0.000000</td>\n",
       "      <td>31669.000000</td>\n",
       "      <td>133.000000</td>\n",
       "      <td>154.000000</td>\n",
       "      <td>0.000000</td>\n",
       "    </tr>\n",
       "    <tr>\n",
       "      <th>75%</th>\n",
       "      <td>285832.000000</td>\n",
       "      <td>49.000000</td>\n",
       "      <td>1.000000</td>\n",
       "      <td>35.000000</td>\n",
       "      <td>1.000000</td>\n",
       "      <td>39400.000000</td>\n",
       "      <td>152.000000</td>\n",
       "      <td>227.000000</td>\n",
       "      <td>0.000000</td>\n",
       "    </tr>\n",
       "    <tr>\n",
       "      <th>max</th>\n",
       "      <td>381109.000000</td>\n",
       "      <td>85.000000</td>\n",
       "      <td>1.000000</td>\n",
       "      <td>52.000000</td>\n",
       "      <td>1.000000</td>\n",
       "      <td>540165.000000</td>\n",
       "      <td>163.000000</td>\n",
       "      <td>299.000000</td>\n",
       "      <td>1.000000</td>\n",
       "    </tr>\n",
       "  </tbody>\n",
       "</table>\n",
       "</div>"
      ],
      "text/plain": [
       "                  id            Age  Driving_License    Region_Code  \\\n",
       "count  381109.000000  381109.000000    381109.000000  381109.000000   \n",
       "mean   190555.000000      38.822584         0.997869      26.388807   \n",
       "std    110016.836208      15.511611         0.046110      13.229888   \n",
       "min         1.000000      20.000000         0.000000       0.000000   \n",
       "25%     95278.000000      25.000000         1.000000      15.000000   \n",
       "50%    190555.000000      36.000000         1.000000      28.000000   \n",
       "75%    285832.000000      49.000000         1.000000      35.000000   \n",
       "max    381109.000000      85.000000         1.000000      52.000000   \n",
       "\n",
       "       Previously_Insured  Annual_Premium  Policy_Sales_Channel  \\\n",
       "count       381109.000000   381109.000000         381109.000000   \n",
       "mean             0.458210    30564.389581            112.034295   \n",
       "std              0.498251    17213.155057             54.203995   \n",
       "min              0.000000     2630.000000              1.000000   \n",
       "25%              0.000000    24405.000000             29.000000   \n",
       "50%              0.000000    31669.000000            133.000000   \n",
       "75%              1.000000    39400.000000            152.000000   \n",
       "max              1.000000   540165.000000            163.000000   \n",
       "\n",
       "             Vintage       Response  \n",
       "count  381109.000000  381109.000000  \n",
       "mean      154.347397       0.122563  \n",
       "std        83.671304       0.327936  \n",
       "min        10.000000       0.000000  \n",
       "25%        82.000000       0.000000  \n",
       "50%       154.000000       0.000000  \n",
       "75%       227.000000       0.000000  \n",
       "max       299.000000       1.000000  "
      ]
     },
     "execution_count": 7,
     "metadata": {},
     "output_type": "execute_result"
    }
   ],
   "source": [
    "data.describe()"
   ]
  },
  {
   "cell_type": "code",
   "execution_count": 8,
   "id": "79ce53df",
   "metadata": {},
   "outputs": [],
   "source": [
    "license_dict = {0: \"No License\", 1: \"Has License\"}\n",
    "insured_dict = {0: \"No\", 1: \"Yes\"}\n",
    "response_dict = {0: \"Not interested\", 1: \"Interested\"}"
   ]
  },
  {
   "cell_type": "code",
   "execution_count": 9,
   "id": "376cae60",
   "metadata": {},
   "outputs": [
    {
     "data": {
      "image/png": "[encoded data removed]",
      "text/plain": [
       "<Figure size 720x576 with 1 Axes>"
      ]
     },
     "metadata": {
      "needs_background": "light"
     },
     "output_type": "display_data"
    }
   ],
   "source": [
    "# visualization for distribution of the reponse\n",
    "labels_pct = (data['Response'].value_counts(normalize=True) * 100).tolist() # normalize the value counts to percentage\n",
    "labels = data['Response'].value_counts().tolist()\n",
    "\n",
    "labels_dict = {'Interested': str(round(labels_pct[0],2)) + '%',\n",
    "               'Not Interested': str(round(labels_pct[1], 2)) + '%'\n",
    "              }\n",
    "\n",
    "fig, ax = plt.subplots(1, 1, figsize=(10, 8))\n",
    "data['Response'].value_counts().plot(kind='bar')\n",
    "plt.text(0, labels[0] + 3000, labels_dict['Interested'], fontsize=11)\n",
    "plt.text(1, labels[1] + 3000, labels_dict['Not Interested'], fontsize=11)\n",
    "ax.set_xticklabels([response_dict[0], response_dict[1]])\n",
    "plt.xticks(rotation=0)\n",
    "plt.title('Distribution of response', fontsize=16)\n",
    "fig.savefig('plots/response_distr.jpeg', dpi=82)\n",
    "plt.show()"
   ]
  },
  {
   "cell_type": "markdown",
   "id": "980fee55",
   "metadata": {},
   "source": [
    "**Observation**\n",
    "- The dataset is imbalanced, only 12.26% of all `policy holders` that had a health insurance were interested in vehicle insurance."
   ]
  },
  {
   "cell_type": "code",
   "execution_count": 10,
   "id": "d591dffd",
   "metadata": {},
   "outputs": [
    {
     "data": {
      "text/html": [
       "<div>\n",
       "<style scoped>\n",
       "    .dataframe tbody tr th:only-of-type {\n",
       "        vertical-align: middle;\n",
       "    }\n",
       "\n",
       "    .dataframe tbody tr th {\n",
       "        vertical-align: top;\n",
       "    }\n",
       "\n",
       "    .dataframe thead th {\n",
       "        text-align: right;\n",
       "    }\n",
       "</style>\n",
       "<table border=\"1\" class=\"dataframe\">\n",
       "  <thead>\n",
       "    <tr style=\"text-align: right;\">\n",
       "      <th>Vehicle_Damage</th>\n",
       "      <th>No</th>\n",
       "      <th>Yes</th>\n",
       "    </tr>\n",
       "    <tr>\n",
       "      <th>Response</th>\n",
       "      <th></th>\n",
       "      <th></th>\n",
       "    </tr>\n",
       "  </thead>\n",
       "  <tbody>\n",
       "    <tr>\n",
       "      <th>0</th>\n",
       "      <td>49.254675</td>\n",
       "      <td>38.488989</td>\n",
       "    </tr>\n",
       "    <tr>\n",
       "      <th>1</th>\n",
       "      <td>0.257669</td>\n",
       "      <td>11.998667</td>\n",
       "    </tr>\n",
       "  </tbody>\n",
       "</table>\n",
       "</div>"
      ],
      "text/plain": [
       "Vehicle_Damage         No        Yes\n",
       "Response                            \n",
       "0               49.254675  38.488989\n",
       "1                0.257669  11.998667"
      ]
     },
     "execution_count": 10,
     "metadata": {},
     "output_type": "execute_result"
    }
   ],
   "source": [
    "contigency_pct = pd.crosstab(data['Response'], data['Vehicle_Damage'], normalize=True) * 100\n",
    "contigency_pct"
   ]
  },
  {
   "cell_type": "code",
   "execution_count": 11,
   "id": "4988e8ab",
   "metadata": {},
   "outputs": [
    {
     "data": {
      "image/png": "[encoded data removed]",
      "text/plain": [
       "<Figure size 576x216 with 2 Axes>"
      ]
     },
     "metadata": {
      "needs_background": "light"
     },
     "output_type": "display_data"
    }
   ],
   "source": [
    "fig = plt.figure(figsize=(8,3))\n",
    "plt.title('Contigency table of Response based on Vehicle_Damage(%)')\n",
    "sns.heatmap(contigency_pct, annot=True)\n",
    "fig.savefig('plots/response_veh_dam.jpeg', dpi=82)\n",
    "plt.show()"
   ]
  },
  {
   "cell_type": "markdown",
   "id": "18f6717e",
   "metadata": {},
   "source": [
    "**Observations**\n",
    "\n",
    "1. 49% of all policy holders with no vehicle damage in the past and were not interested in a vehicle insurance\n",
    "2. 0.26% of all policy holders with no vehicle damage in the past and were interested in a vehicle insurance\n",
    "3. 38% of all policy holders with a vehicle damage in the past were not interested in a vehicle insurance\n",
    "4. 12% of all policy holders with a vehicle damage in the past were interested in a vehicle insurance."
   ]
  },
  {
   "cell_type": "code",
   "execution_count": 12,
   "id": "68378c25",
   "metadata": {},
   "outputs": [],
   "source": [
    "label = data.groupby('Vehicle_Damage')['Response'].sum().index.get_level_values(0).tolist()\n",
    "totals = data.groupby('Vehicle_Damage')['Response'].count().reset_index().Response.values.tolist()\n",
    "sizes = data.groupby('Vehicle_Damage')['Response'].sum().reset_index().Response.values.tolist()\n",
    "sizes_pct = [size/data.shape[0]*100 for size, total in zip(sizes, totals)]\n",
    "label_fmt = [f'{label} = {size_pct:.2f}%' for label, size_pct in zip(label, sizes_pct)]\n",
    "color = ['green', 'blue']"
   ]
  },
  {
   "cell_type": "code",
   "execution_count": 13,
   "id": "f19f5965",
   "metadata": {},
   "outputs": [
    {
     "data": {
      "image/png": "[encoded data removed]",
      "text/plain": [
       "<Figure size 576x432 with 1 Axes>"
      ]
     },
     "metadata": {
      "needs_background": "light"
     },
     "output_type": "display_data"
    }
   ],
   "source": [
    "fig, ax = plt.subplots(1, figsize=(8, 6))\n",
    "\n",
    "squarify.plot(sizes=sizes_pct, label=label_fmt, color=color, alpha=.4, pad=False)\n",
    "plt.axis('off')\n",
    "plt.title('Treemap of policy holder interested in Vehicle Insurance\\nBased on Vehicle Damage', fontsize=12)\n",
    "fig.savefig('plots/response_vehicle_dam.jpg', dpi=80)\n",
    "plt.show()"
   ]
  },
  {
   "cell_type": "markdown",
   "id": "0c445508",
   "metadata": {},
   "source": [
    "- Out of all policy holders that were interested in a vehicle insurance, 12.00% had a vehicle damage in the past.\n",
    "- Out of all policy holders that were interested in a vehicle insurance, 0.26% did not have any occurence of vehicle damage in the past.\n",
    "\n",
    "> We can clearly observe that the chances of requesting for a vehicle insurance increases if the policy holder have encountered a vehicle damage in the past"
   ]
  },
  {
   "cell_type": "code",
   "execution_count": 14,
   "id": "46b655fd",
   "metadata": {},
   "outputs": [
    {
     "data": {
      "image/png": "[encoded data removed]",
      "text/plain": [
       "<Figure size 720x576 with 1 Axes>"
      ]
     },
     "metadata": {
      "needs_background": "light"
     },
     "output_type": "display_data"
    }
   ],
   "source": [
    "# histogram of age\n",
    "fig, ax = plt.subplots(figsize=(10, 8))\n",
    "sns.histplot(x='Age', hue='Response', data=data, ax=ax)\n",
    "plt.title('Histogram of policy holder\"s Age')\n",
    "fig.savefig('plots/age_dist.jpeg', dpi=82)\n",
    "plt.show()"
   ]
  },
  {
   "cell_type": "code",
   "execution_count": 15,
   "id": "f680679e",
   "metadata": {},
   "outputs": [
    {
     "data": {
      "image/png": "[encoded data removed]",
      "text/plain": [
       "<Figure size 720x576 with 1 Axes>"
      ]
     },
     "metadata": {
      "needs_background": "light"
     },
     "output_type": "display_data"
    }
   ],
   "source": [
    "# histogram of age\n",
    "fig, ax = plt.subplots(figsize=(10, 8))\n",
    "sns.boxplot(x='Response', y='Age', data=data, ax=ax)\n",
    "plt.title('Box plot of policy holder\"s age based on Response')\n",
    "ax.set_xticklabels(['Not interested', 'Interested'])\n",
    "fig.savefig('plots/age_boxplot.jpg', dpi=82)\n",
    "plt.show()"
   ]
  },
  {
   "cell_type": "code",
   "execution_count": 16,
   "id": "bd4526d9",
   "metadata": {},
   "outputs": [
    {
     "data": {
      "text/html": [
       "<div>\n",
       "<style scoped>\n",
       "    .dataframe tbody tr th:only-of-type {\n",
       "        vertical-align: middle;\n",
       "    }\n",
       "\n",
       "    .dataframe tbody tr th {\n",
       "        vertical-align: top;\n",
       "    }\n",
       "\n",
       "    .dataframe thead th {\n",
       "        text-align: right;\n",
       "    }\n",
       "</style>\n",
       "<table border=\"1\" class=\"dataframe\">\n",
       "  <thead>\n",
       "    <tr style=\"text-align: right;\">\n",
       "      <th></th>\n",
       "      <th>Interested</th>\n",
       "      <th>Not Interested</th>\n",
       "    </tr>\n",
       "  </thead>\n",
       "  <tbody>\n",
       "    <tr>\n",
       "      <th>Mean</th>\n",
       "      <td>43.4356</td>\n",
       "      <td>38.1782</td>\n",
       "    </tr>\n",
       "    <tr>\n",
       "      <th>Median</th>\n",
       "      <td>43</td>\n",
       "      <td>34</td>\n",
       "    </tr>\n",
       "    <tr>\n",
       "      <th>Skew</th>\n",
       "      <td>0.32245</td>\n",
       "      <td>0.749026</td>\n",
       "    </tr>\n",
       "    <tr>\n",
       "      <th>Kurtosis</th>\n",
       "      <td>-0.0963024</td>\n",
       "      <td>-0.530315</td>\n",
       "    </tr>\n",
       "  </tbody>\n",
       "</table>\n",
       "</div>"
      ],
      "text/plain": [
       "         Interested Not Interested\n",
       "Mean        43.4356        38.1782\n",
       "Median           43             34\n",
       "Skew        0.32245       0.749026\n",
       "Kurtosis -0.0963024      -0.530315"
      ]
     },
     "execution_count": 16,
     "metadata": {},
     "output_type": "execute_result"
    }
   ],
   "source": [
    "interested = data[data['Response'] == 1]\n",
    "not_interested = data[data['Response'] == 0]\n",
    "\n",
    "age_stat = pd.DataFrame(columns=['Interested', 'Not Interested'], index=['Mean', 'Median', 'Skew', 'Kurtosis'])\n",
    "age_stat.loc['Mean', 'Interested'] = interested['Age'].mean()\n",
    "age_stat.loc['Median', 'Interested'] = interested['Age'].median()\n",
    "age_stat.loc['Skew', 'Interested'] = interested['Age'].skew()\n",
    "age_stat.loc['Kurtosis', 'Interested'] = interested['Age'].kurtosis()\n",
    "\n",
    "age_stat.loc['Mean', 'Not Interested'] = not_interested['Age'].mean()\n",
    "age_stat.loc['Median', 'Not Interested'] = not_interested['Age'].median()\n",
    "age_stat.loc['Skew', 'Not Interested'] = not_interested['Age'].skew()\n",
    "age_stat.loc['Kurtosis', 'Not Interested'] = not_interested['Age'].kurtosis()\n",
    "\n",
    "age_stat"
   ]
  },
  {
   "cell_type": "markdown",
   "id": "0183029d",
   "metadata": {},
   "source": [
    "**Observation**\n",
    "1. The distribution of policy holders that are interested in vehicle insurance approximates a normal distribution\n",
    "2. Age 40 - 50 are more likely to be interested in vehicle insurance\n",
    "3. Age 20 - 34 are less likely to be interested in vehicle insurance\n",
    "4. The distribution of policy holders that are not interested in vehicle insurance shows a bit of skewness\n",
    "5. The median age of policy holders that are interested in vehicle insurance is 43 while the median age of policy holders that are not interested in vehicle insurance is 34"
   ]
  },
  {
   "cell_type": "code",
   "execution_count": null,
   "id": "31798174",
   "metadata": {},
   "outputs": [],
   "source": [
    "# histogram of age\n",
    "fig, ax = plt.subplots(figsize=(10, 8))\n",
    "sns.histplot(x='Annual_Premium', data=data, ax=ax)\n",
    "plt.show()"
   ]
  },
  {
   "cell_type": "code",
   "execution_count": null,
   "id": "db066354",
   "metadata": {},
   "outputs": [],
   "source": [
    "mask_2630 = data['Annual_Premium'] == 2630\n",
    "data[mask_2630].shape[0] / data.shape[0] * 100"
   ]
  },
  {
   "cell_type": "code",
   "execution_count": null,
   "id": "e185e6cf",
   "metadata": {},
   "outputs": [],
   "source": [
    "response_rate1 = data[mask_2630]['Response'].value_counts(normalize=True)[1]"
   ]
  },
  {
   "cell_type": "code",
   "execution_count": null,
   "id": "9d879403",
   "metadata": {},
   "outputs": [],
   "source": [
    "mask_g2630l100000 = (data['Annual_Premium'] > 2630) & (data['Annual_Premium'] < 100000)\n",
    "data[mask_g2630l100000].shape[0] / data.shape[0] * 100"
   ]
  },
  {
   "cell_type": "code",
   "execution_count": null,
   "id": "b5168a24",
   "metadata": {
    "scrolled": false
   },
   "outputs": [],
   "source": [
    "response_rate2 = data[mask_g2630l100000]['Response'].value_counts(normalize=True)[1]"
   ]
  },
  {
   "cell_type": "code",
   "execution_count": null,
   "id": "43990c27",
   "metadata": {},
   "outputs": [],
   "source": [
    "mask_g100000 = data['Annual_Premium'] >= 100000\n",
    "data[mask_g100000].shape[0] / data.shape[0] * 100"
   ]
  },
  {
   "cell_type": "code",
   "execution_count": null,
   "id": "a4af9b4e",
   "metadata": {
    "scrolled": true
   },
   "outputs": [],
   "source": [
    "response_rate3 = data[mask_g100000]['Response'].value_counts(normalize=True)[1]"
   ]
  },
  {
   "cell_type": "code",
   "execution_count": null,
   "id": "d5e736e9",
   "metadata": {},
   "outputs": [],
   "source": [
    "temp_df = pd.DataFrame(columns=['Annual_Premium Response Rate(%)'], index=['= 2630', '> 2630 and < 100000', '>= 100000'])\n",
    "temp_df.loc['= 2630', 'Annual_Premium Response Rate(%)'] = response_rate1 * 100\n",
    "temp_df.loc['> 2630 and < 100000', 'Annual_Premium Response Rate(%)'] = response_rate2 * 100\n",
    "temp_df.loc['>= 100000', 'Annual_Premium Response Rate(%)'] = response_rate3 * 100\n",
    "temp_df"
   ]
  },
  {
   "cell_type": "markdown",
   "id": "453c4380",
   "metadata": {},
   "source": [
    "**Observations**\n",
    "1. 17% of the data have an annual_premium amount of 2630.0\n",
    "2. 82% of the data have an annual_premium amount greater than 2630 and less than 100000\n",
    "3. 20% of the data have an annual_premium amount greater than or equal to 100000\n",
    "4. We can clearly observe that the response rate of policy holders that have an annual premium fee of 2630 is 13.10% which is 0.84% more than the expected response rate total of 12.26%\n",
    "5. We can clearly observe that the response rate of policy holders that have an annual premium fee of > 2630 and < 100000 is 12.07% which is 0.19% less than the expected response rate total of 12.26%\n",
    "6. We can clearly observe that the response rate of policy holders that have an annual premium fee of >= 100000 is 15.81% which is 3.55% more than the expected response rate total of 12.26%\n",
    "\n",
    "> We conclude that on average the likelihood that a policy holder that has a health insurance would be interested in a vehicle insurance increases by 3.55% if the policy holders needs to pay an annual premium greater than 100000.\n",
    "\n"
   ]
  },
  {
   "cell_type": "code",
   "execution_count": null,
   "id": "4f0f77f9",
   "metadata": {},
   "outputs": [],
   "source": [
    "sns.histplot(x='Vintage', data=data)\n",
    "plt.show()"
   ]
  },
  {
   "cell_type": "code",
   "execution_count": null,
   "id": "46cb2021",
   "metadata": {},
   "outputs": [],
   "source": [
    "sns.kdeplot(x='Vintage', data=data, fill=True, hue='Response')\n",
    "plt.show()"
   ]
  },
  {
   "cell_type": "code",
   "execution_count": null,
   "id": "388b54e3",
   "metadata": {},
   "outputs": [],
   "source": [
    "data['Previously_Insured'].value_counts(normalize=True)"
   ]
  },
  {
   "cell_type": "code",
   "execution_count": null,
   "id": "2be07beb",
   "metadata": {},
   "outputs": [],
   "source": [
    "contigency_pct = pd.crosstab(data['Response'], data['Previously_Insured'], normalize=True) * 100\n",
    "contigency_pct"
   ]
  },
  {
   "cell_type": "code",
   "execution_count": null,
   "id": "ebcfc4ba",
   "metadata": {},
   "outputs": [],
   "source": [
    "fig = plt.figure(figsize=(8,3))\n",
    "plt.title('Contigency table of Response based on Previously Insured(%)')\n",
    "sns.heatmap(contigency_pct, annot=True)\n",
    "fig.savefig('plots/response_prev_ins.jpeg', dpi=82)\n",
    "plt.show()"
   ]
  },
  {
   "cell_type": "markdown",
   "id": "f3e7e9ba",
   "metadata": {},
   "source": [
    "**Observations**\n",
    "\n",
    "1. 42% of all policy holders had no vehicle insurance in the past and were not interested in a vehicle insurance\n",
    "2. 12% of all policy holders had no vehicle insurance in the past and were interested in a vehicle insurance\n",
    "3. 46% of all policy holders had a vehicle insurance in the past and were not interested in a vehicle insurance\n",
    "4. 0.041% of all policy holders had a vehicle insurance in the past and were interested in a vehicle insurance"
   ]
  }
 ],
 "metadata": {
  "kernelspec": {
   "display_name": "Python 3 (ipykernel)",
   "language": "python",
   "name": "python3"
  },
  "language_info": {
   "codemirror_mode": {
    "name": "ipython",
    "version": 3
   },
   "file_extension": ".py",
   "mimetype": "text/x-python",
   "name": "python",
   "nbconvert_exporter": "python",
   "pygments_lexer": "ipython3",
   "version": "3.7.0"
  }
 },
 "nbformat": 4,
 "nbformat_minor": 5
}
